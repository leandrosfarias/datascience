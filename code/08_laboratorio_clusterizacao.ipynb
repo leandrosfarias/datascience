{
 "cells": [
  {
   "cell_type": "markdown",
   "metadata": {
    "colab_type": "text",
    "id": "view-in-github",
    "pycharm": {
     "name": "#%% md\n"
    }
   },
   "source": [
    "<a href=\"https://colab.research.google.com/github/adolfoguimaraes/datascience/blob/main/code/08_laboratorio_clusterizacao.ipynb\" target=\"_parent\"><img src=\"https://colab.research.google.com/assets/colab-badge.svg\" alt=\"Open In Colab\"/></a>"
   ]
  },
  {
   "cell_type": "markdown",
   "metadata": {
    "id": "ZuMe_0LghuUE",
    "pycharm": {
     "name": "#%% md\n"
    }
   },
   "source": [
    "# Clusterização \n",
    "\n",
    "Para nosso exemplo de clusterização vamos trabalhar com o algortimo particional (K-Means).\n",
    "\n",
    "## DataSet \n",
    "\n",
    "A base de dados escolhida para esse trabalho é a USArrests disponível [neste link](https://www.kaggle.com/deepakg/usarrests). Esse conjunto de dados contém estatísticas, em detenções por 100.000 habitantes pelos crimes de agressão, assassinato e estupro em cada um dos 50 estados dos EUA em 1973. Também é fornecida a porcentagem da população que vive em áreas urbanas.\n",
    "\n",
    "Vamos dividir essa tarefa em três partes: \n",
    "\n",
    "1. Análise simples dos dados \n",
    "2. Identificação de clusters com aplicação do k-means.\n",
    "3. Análise dos clusters extraídos a partir das visualização.\n",
    "\n",
    "Vamos começar ;) \n",
    "\n"
   ]
  },
  {
   "cell_type": "code",
   "execution_count": 7,
   "metadata": {
    "id": "OI5oFphh5wG5",
    "pycharm": {
     "name": "#%%\n"
    }
   },
   "outputs": [],
   "source": [
    "# Imports necessários \n",
    "\n",
    "import pandas as pd \n",
    "from sklearn import preprocessing\n",
    "from scipy.spatial import distance_matrix\n",
    "import seaborn as sns\n",
    "from sklearn.cluster import KMeans\n",
    "from sklearn.cluster import DBSCAN\n",
    "import scipy.cluster.hierarchy as shc\n",
    "import matplotlib.pyplot as plt\n",
    "from sklearn.cluster import AgglomerativeClustering\n",
    "import plotly.graph_objects as go"
   ]
  },
  {
   "cell_type": "markdown",
   "metadata": {
    "id": "yynleb5EyYTL",
    "pycharm": {
     "name": "#%% md\n"
    }
   },
   "source": [
    "Para montar a base de dados vamos precisar de dois arquivos: a base original da USArrests e uma base de estados americanos para identificar a sigla de cada estado. Vamos usar essa informação para alguns exemplos de visualização. Os arquivos podem ser acessados na pasta `datasets/clusterizacao`."
   ]
  },
  {
   "cell_type": "code",
   "execution_count": 8,
   "metadata": {
    "id": "_vk8iXlf6M8u",
    "pycharm": {
     "name": "#%%\n"
    }
   },
   "outputs": [],
   "source": [
    "# Carregando a base de dados \n",
    "dataset_usa = pd.read_csv(\"../datasets/clusterizacao/USAArrests.csv\", names=['State','Murder','Assault','Rape','UrbanPop'],skiprows=[0],index_col=['State'])\n",
    "dataset_states = pd.read_csv(\"../datasets/clusterizacao/USAStates.csv\", names=['state','code'], index_col=['state'], skiprows=[0])"
   ]
  },
  {
   "cell_type": "code",
   "execution_count": 9,
   "metadata": {
    "colab": {
     "base_uri": "https://localhost:8080/",
     "height": 237
    },
    "id": "xQl-E3CPAiCE",
    "outputId": "c75f7d8b-bc19-495a-e7cd-f5431700dadf",
    "pycharm": {
     "name": "#%%\n"
    }
   },
   "outputs": [
    {
     "data": {
      "text/plain": "           code\nstate          \nAlabama      AL\nAlaska       AK\nArizona      AZ\nArkansas     AR\nCalifornia   CA",
      "text/html": "<div>\n<style scoped>\n    .dataframe tbody tr th:only-of-type {\n        vertical-align: middle;\n    }\n\n    .dataframe tbody tr th {\n        vertical-align: top;\n    }\n\n    .dataframe thead th {\n        text-align: right;\n    }\n</style>\n<table border=\"1\" class=\"dataframe\">\n  <thead>\n    <tr style=\"text-align: right;\">\n      <th></th>\n      <th>code</th>\n    </tr>\n    <tr>\n      <th>state</th>\n      <th></th>\n    </tr>\n  </thead>\n  <tbody>\n    <tr>\n      <th>Alabama</th>\n      <td>AL</td>\n    </tr>\n    <tr>\n      <th>Alaska</th>\n      <td>AK</td>\n    </tr>\n    <tr>\n      <th>Arizona</th>\n      <td>AZ</td>\n    </tr>\n    <tr>\n      <th>Arkansas</th>\n      <td>AR</td>\n    </tr>\n    <tr>\n      <th>California</th>\n      <td>CA</td>\n    </tr>\n  </tbody>\n</table>\n</div>"
     },
     "execution_count": 9,
     "metadata": {},
     "output_type": "execute_result"
    }
   ],
   "source": [
    "dataset_states.head()"
   ]
  },
  {
   "cell_type": "code",
   "execution_count": 10,
   "metadata": {
    "id": "11otLWy6IRe1",
    "pycharm": {
     "name": "#%%\n"
    }
   },
   "outputs": [],
   "source": [
    "# Juntando as duas bases\n",
    "dataset_usa['Code'] = dataset_states['code']"
   ]
  },
  {
   "cell_type": "code",
   "execution_count": 11,
   "metadata": {
    "colab": {
     "base_uri": "https://localhost:8080/",
     "height": 700
    },
    "id": "nWP-hrTeIV2q",
    "outputId": "16b05305-89a0-41e3-d22e-cd03cc91f694",
    "pycharm": {
     "name": "#%%\n"
    }
   },
   "outputs": [
    {
     "data": {
      "text/plain": "             Murder  Assault  Rape  UrbanPop Code\nState                                            \nAlabama        13.2      236    58      21.2   AL\nAlaska         10.0      263    48      44.5   AK\nArizona         8.1      294    80      31.0   AZ\nArkansas        8.8      190    50      19.5   AR\nCalifornia      9.0      276    91      40.6   CA\nColorado        7.9      204    78      38.7   CO\nConnecticut     3.3      110    77      11.1   CT\nDelaware        5.9      238    72      15.8   DE\nFlorida        15.4      335    80      31.9   FL\nGeorgia        17.4      211    60      25.8   GA\nHawaii          5.3       46    83      20.2   HI\nIdaho           2.6      120    54      14.2   ID\nIllinois       10.4      249    83      24.0   IL\nIndiana         7.2      113    65      21.0   IN\nIowa            2.2       56    57      11.3   IA\nKansas          6.0      115    66      18.0   KS\nKentucky        9.7      109    52      16.3   KY\nLouisiana      15.4      249    66      22.2   LA\nMaine           2.1       83    51       7.8   ME\nMaryland       11.3      300    67      27.8   MD",
      "text/html": "<div>\n<style scoped>\n    .dataframe tbody tr th:only-of-type {\n        vertical-align: middle;\n    }\n\n    .dataframe tbody tr th {\n        vertical-align: top;\n    }\n\n    .dataframe thead th {\n        text-align: right;\n    }\n</style>\n<table border=\"1\" class=\"dataframe\">\n  <thead>\n    <tr style=\"text-align: right;\">\n      <th></th>\n      <th>Murder</th>\n      <th>Assault</th>\n      <th>Rape</th>\n      <th>UrbanPop</th>\n      <th>Code</th>\n    </tr>\n    <tr>\n      <th>State</th>\n      <th></th>\n      <th></th>\n      <th></th>\n      <th></th>\n      <th></th>\n    </tr>\n  </thead>\n  <tbody>\n    <tr>\n      <th>Alabama</th>\n      <td>13.2</td>\n      <td>236</td>\n      <td>58</td>\n      <td>21.2</td>\n      <td>AL</td>\n    </tr>\n    <tr>\n      <th>Alaska</th>\n      <td>10.0</td>\n      <td>263</td>\n      <td>48</td>\n      <td>44.5</td>\n      <td>AK</td>\n    </tr>\n    <tr>\n      <th>Arizona</th>\n      <td>8.1</td>\n      <td>294</td>\n      <td>80</td>\n      <td>31.0</td>\n      <td>AZ</td>\n    </tr>\n    <tr>\n      <th>Arkansas</th>\n      <td>8.8</td>\n      <td>190</td>\n      <td>50</td>\n      <td>19.5</td>\n      <td>AR</td>\n    </tr>\n    <tr>\n      <th>California</th>\n      <td>9.0</td>\n      <td>276</td>\n      <td>91</td>\n      <td>40.6</td>\n      <td>CA</td>\n    </tr>\n    <tr>\n      <th>Colorado</th>\n      <td>7.9</td>\n      <td>204</td>\n      <td>78</td>\n      <td>38.7</td>\n      <td>CO</td>\n    </tr>\n    <tr>\n      <th>Connecticut</th>\n      <td>3.3</td>\n      <td>110</td>\n      <td>77</td>\n      <td>11.1</td>\n      <td>CT</td>\n    </tr>\n    <tr>\n      <th>Delaware</th>\n      <td>5.9</td>\n      <td>238</td>\n      <td>72</td>\n      <td>15.8</td>\n      <td>DE</td>\n    </tr>\n    <tr>\n      <th>Florida</th>\n      <td>15.4</td>\n      <td>335</td>\n      <td>80</td>\n      <td>31.9</td>\n      <td>FL</td>\n    </tr>\n    <tr>\n      <th>Georgia</th>\n      <td>17.4</td>\n      <td>211</td>\n      <td>60</td>\n      <td>25.8</td>\n      <td>GA</td>\n    </tr>\n    <tr>\n      <th>Hawaii</th>\n      <td>5.3</td>\n      <td>46</td>\n      <td>83</td>\n      <td>20.2</td>\n      <td>HI</td>\n    </tr>\n    <tr>\n      <th>Idaho</th>\n      <td>2.6</td>\n      <td>120</td>\n      <td>54</td>\n      <td>14.2</td>\n      <td>ID</td>\n    </tr>\n    <tr>\n      <th>Illinois</th>\n      <td>10.4</td>\n      <td>249</td>\n      <td>83</td>\n      <td>24.0</td>\n      <td>IL</td>\n    </tr>\n    <tr>\n      <th>Indiana</th>\n      <td>7.2</td>\n      <td>113</td>\n      <td>65</td>\n      <td>21.0</td>\n      <td>IN</td>\n    </tr>\n    <tr>\n      <th>Iowa</th>\n      <td>2.2</td>\n      <td>56</td>\n      <td>57</td>\n      <td>11.3</td>\n      <td>IA</td>\n    </tr>\n    <tr>\n      <th>Kansas</th>\n      <td>6.0</td>\n      <td>115</td>\n      <td>66</td>\n      <td>18.0</td>\n      <td>KS</td>\n    </tr>\n    <tr>\n      <th>Kentucky</th>\n      <td>9.7</td>\n      <td>109</td>\n      <td>52</td>\n      <td>16.3</td>\n      <td>KY</td>\n    </tr>\n    <tr>\n      <th>Louisiana</th>\n      <td>15.4</td>\n      <td>249</td>\n      <td>66</td>\n      <td>22.2</td>\n      <td>LA</td>\n    </tr>\n    <tr>\n      <th>Maine</th>\n      <td>2.1</td>\n      <td>83</td>\n      <td>51</td>\n      <td>7.8</td>\n      <td>ME</td>\n    </tr>\n    <tr>\n      <th>Maryland</th>\n      <td>11.3</td>\n      <td>300</td>\n      <td>67</td>\n      <td>27.8</td>\n      <td>MD</td>\n    </tr>\n  </tbody>\n</table>\n</div>"
     },
     "execution_count": 11,
     "metadata": {},
     "output_type": "execute_result"
    }
   ],
   "source": [
    "# Dataframe Final \n",
    "dataset_usa.head(20)"
   ]
  },
  {
   "cell_type": "markdown",
   "metadata": {
    "id": "VsRRwzlB4zjy",
    "pycharm": {
     "name": "#%% md\n"
    }
   },
   "source": [
    "## Primeira Etapa: Análise simples dos dados\n",
    "\n",
    "Nessa etapa vamos extrair apenas algumas correlações para entender a relação que existe entre os atributos. Podemos tentar responder algumas perguntas como: \n",
    "\n",
    "* Será que existe relação entre os crimes? \n",
    "* Será que existe correlação entre os crimes e a porcentagem da população?\n",
    "\n",
    "Vamos analisar a matriz de correlação:"
   ]
  },
  {
   "cell_type": "code",
   "execution_count": 12,
   "metadata": {
    "colab": {
     "base_uri": "https://localhost:8080/",
     "height": 287
    },
    "id": "KqyYl5Re57oS",
    "outputId": "c753a0e9-6947-4158-c3d0-3a006c31e213",
    "pycharm": {
     "name": "#%%\n"
    }
   },
   "outputs": [
    {
     "data": {
      "text/plain": "<AxesSubplot:>"
     },
     "execution_count": 12,
     "metadata": {},
     "output_type": "execute_result"
    },
    {
     "data": {
      "text/plain": "<Figure size 432x288 with 2 Axes>",
      "image/png": "[encoded data removed]"
     },
     "metadata": {},
     "output_type": "display_data"
    }
   ],
   "source": [
    "dataset_usa_corr = dataset_usa[['Murder','Assault','Rape', 'UrbanPop']].corr()\n",
    "sns.heatmap(dataset_usa_corr, xticklabels=['Murder','Assault','Rape', 'UrbanPop'], yticklabels=['Murder','Assault','Rape', 'UrbanPop'], annot=True)"
   ]
  },
  {
   "cell_type": "markdown",
   "metadata": {
    "id": "qgYaNRQF7HxM",
    "pycharm": {
     "name": "#%% md\n"
    }
   },
   "source": [
    "**O que podemos concluir?**\n",
    "\n",
    "* Existe uma correlação entre os tipos de crimes e a porcentagem da população na ordem do mais correlacionado para o menos correlacionado: _Murder_, _Assault_ e _Rape_. \n",
    "* Uma outra correlação que podemos identificar é entre _Murder_ e _Assault_. \n",
    "\n"
   ]
  },
  {
   "cell_type": "markdown",
   "metadata": {
    "id": "pDOer7ix-p-j",
    "pycharm": {
     "name": "#%% md\n"
    }
   },
   "source": [
    "Antes de trabalharmos com os algoritomos de clusterização vamos fazer uma rápida análise a respeito da relação de cada instância da base de dados. A idéia é exibir uma matriz de similaridade entre as instâncias com o intuito de verificar algum tipo de relação entre os estados a partir dos dados coletados. \n",
    "\n",
    "A similaridade é baseada na distância entre as instâncias. Como essa métrica é influenciada pela escala dos valores. Vamos normalizar alguns dados."
   ]
  },
  {
   "cell_type": "code",
   "execution_count": 14,
   "metadata": {
    "colab": {
     "base_uri": "https://localhost:8080/",
     "height": 235
    },
    "id": "bAwt0GeL77Dl",
    "outputId": "c26b8e59-b112-455c-a00c-b0885d7301bb",
    "pycharm": {
     "name": "#%%\n"
    }
   },
   "outputs": [
    {
     "data": {
      "text/plain": "              Murder   Assault  UrbanPop      Rape\nState                                             \nAlabama     0.746988  0.654110  0.359173  0.440678\nAlaska      0.554217  0.746575  0.961240  0.271186\nArizona     0.439759  0.852740  0.612403  0.813559\nArkansas    0.481928  0.496575  0.315245  0.305085\nCalifornia  0.493976  0.791096  0.860465  1.000000",
      "text/html": "<div>\n<style scoped>\n    .dataframe tbody tr th:only-of-type {\n        vertical-align: middle;\n    }\n\n    .dataframe tbody tr th {\n        vertical-align: top;\n    }\n\n    .dataframe thead th {\n        text-align: right;\n    }\n</style>\n<table border=\"1\" class=\"dataframe\">\n  <thead>\n    <tr style=\"text-align: right;\">\n      <th></th>\n      <th>Murder</th>\n      <th>Assault</th>\n      <th>UrbanPop</th>\n      <th>Rape</th>\n    </tr>\n    <tr>\n      <th>State</th>\n      <th></th>\n      <th></th>\n      <th></th>\n      <th></th>\n    </tr>\n  </thead>\n  <tbody>\n    <tr>\n      <th>Alabama</th>\n      <td>0.746988</td>\n      <td>0.654110</td>\n      <td>0.359173</td>\n      <td>0.440678</td>\n    </tr>\n    <tr>\n      <th>Alaska</th>\n      <td>0.554217</td>\n      <td>0.746575</td>\n      <td>0.961240</td>\n      <td>0.271186</td>\n    </tr>\n    <tr>\n      <th>Arizona</th>\n      <td>0.439759</td>\n      <td>0.852740</td>\n      <td>0.612403</td>\n      <td>0.813559</td>\n    </tr>\n    <tr>\n      <th>Arkansas</th>\n      <td>0.481928</td>\n      <td>0.496575</td>\n      <td>0.315245</td>\n      <td>0.305085</td>\n    </tr>\n    <tr>\n      <th>California</th>\n      <td>0.493976</td>\n      <td>0.791096</td>\n      <td>0.860465</td>\n      <td>1.000000</td>\n    </tr>\n  </tbody>\n</table>\n</div>"
     },
     "execution_count": 14,
     "metadata": {},
     "output_type": "execute_result"
    }
   ],
   "source": [
    "x = dataset_usa[['Murder','Assault','UrbanPop','Rape']].values #returns a numpy array\n",
    "min_max_scaler = preprocessing.MinMaxScaler()\n",
    "x_scaled = min_max_scaler.fit_transform(x)\n",
    "dataset_usa_norm = pd.DataFrame(x_scaled, index=dataset_usa.index, columns=['Murder','Assault','UrbanPop','Rape'])\n",
    "dataset_usa_norm.head()"
   ]
  },
  {
   "cell_type": "code",
   "execution_count": 15,
   "metadata": {
    "id": "gW4o2AhaLcDG",
    "pycharm": {
     "name": "#%%\n"
    }
   },
   "outputs": [],
   "source": [
    "from scipy.spatial.distance import pdist, squareform"
   ]
  },
  {
   "cell_type": "code",
   "execution_count": 16,
   "metadata": {
    "id": "mApSmoMyLzm6",
    "pycharm": {
     "name": "#%%\n"
    }
   },
   "outputs": [],
   "source": [
    "dataframe_dist = pd.DataFrame(\n",
    "    squareform(pdist(dataset_usa_norm[['Murder','Assault','Rape','UrbanPop']], metric='euclidean')),\n",
    "    columns = dataset_usa.Code,\n",
    "    index = dataset_usa.Code\n",
    ")"
   ]
  },
  {
   "cell_type": "markdown",
   "metadata": {
    "id": "BSP8truLIhIQ",
    "pycharm": {
     "name": "#%% md\n"
    }
   },
   "source": [
    "Vamos usar essa tabela de distância para ver alguns dados específicos:"
   ]
  },
  {
   "cell_type": "code",
   "execution_count": 17,
   "metadata": {
    "id": "96f73Gy1SPK8",
    "pycharm": {
     "name": "#%%\n"
    }
   },
   "outputs": [],
   "source": [
    "long_form = dataframe_dist.unstack()\n",
    "\n",
    "long_form.index.rename([\"Cidade A\", \"Cidade B\"], inplace=True)\n",
    "long_form = long_form.to_frame('distance').reset_index()"
   ]
  },
  {
   "cell_type": "code",
   "execution_count": 18,
   "metadata": {
    "colab": {
     "base_uri": "https://localhost:8080/",
     "height": 175
    },
    "id": "fh7OVWnMSkr5",
    "outputId": "30f35323-16e9-4fb6-95be-7af129db3774",
    "pycharm": {
     "name": "#%%\n"
    }
   },
   "outputs": [
    {
     "data": {
      "text/plain": "     Cidade A Cidade B  distance\n631        IL       NY  0.087186\n728        IA       NH  0.049986\n1414       NH       IA  0.049986\n1562       NY       IL  0.087186",
      "text/html": "<div>\n<style scoped>\n    .dataframe tbody tr th:only-of-type {\n        vertical-align: middle;\n    }\n\n    .dataframe tbody tr th {\n        vertical-align: top;\n    }\n\n    .dataframe thead th {\n        text-align: right;\n    }\n</style>\n<table border=\"1\" class=\"dataframe\">\n  <thead>\n    <tr style=\"text-align: right;\">\n      <th></th>\n      <th>Cidade A</th>\n      <th>Cidade B</th>\n      <th>distance</th>\n    </tr>\n  </thead>\n  <tbody>\n    <tr>\n      <th>631</th>\n      <td>IL</td>\n      <td>NY</td>\n      <td>0.087186</td>\n    </tr>\n    <tr>\n      <th>728</th>\n      <td>IA</td>\n      <td>NH</td>\n      <td>0.049986</td>\n    </tr>\n    <tr>\n      <th>1414</th>\n      <td>NH</td>\n      <td>IA</td>\n      <td>0.049986</td>\n    </tr>\n    <tr>\n      <th>1562</th>\n      <td>NY</td>\n      <td>IL</td>\n      <td>0.087186</td>\n    </tr>\n  </tbody>\n</table>\n</div>"
     },
     "execution_count": 18,
     "metadata": {},
     "output_type": "execute_result"
    }
   ],
   "source": [
    "long_form[\n",
    "    (long_form['distance'] < 0.1) \n",
    "    & (long_form['Cidade A'] != long_form['Cidade B'])\n",
    "]"
   ]
  },
  {
   "cell_type": "markdown",
   "metadata": {
    "id": "6vchNDBhmMyk",
    "pycharm": {
     "name": "#%% md\n"
    }
   },
   "source": [
    "A tabela acima mostra as cidades que estão mais próximas, em outras palavras, as cidades que são mais similares a partir das informações de crimes e tamanho da população reportado. Vamos analisar dois pares de cidades: \n",
    "\n",
    "**IA e NH:** \n",
    "\n",
    "Da tabela original, temos: \n",
    "\n",
    "`Iowa\t2.2\t56\t57\t11.3`\n",
    "\n",
    "`New Hampshire\t2.1\t57\t56\t9.5`\n",
    "\n",
    "**NY e IL:** \n",
    "\n",
    "`New York\t11.1\t254\t86\t26.1`\n",
    "\n",
    "`Illinois\t10.4\t249\t83\t24.0`"
   ]
  },
  {
   "cell_type": "markdown",
   "metadata": {
    "id": "Y3S0a5VrnhK5",
    "pycharm": {
     "name": "#%% md\n"
    }
   },
   "source": [
    "É fácil perceber a semelhança entre as cidades relacionadas e isso é extraído a partir da métricas de distância. "
   ]
  },
  {
   "cell_type": "markdown",
   "metadata": {
    "id": "2qmt06xs76mW",
    "pycharm": {
     "name": "#%% md\n"
    }
   },
   "source": [
    "## Segunda Parte: Algoritmos de Clusterização\n",
    "\n",
    "Vamos aplicar dois algoritmos de clusterização: um baseado em dist"
   ]
  },
  {
   "cell_type": "markdown",
   "metadata": {
    "id": "Zl7OlssgpRkF",
    "pycharm": {
     "name": "#%% md\n"
    }
   },
   "source": [
    "### K-Means"
   ]
  },
  {
   "cell_type": "code",
   "execution_count": 19,
   "metadata": {
    "colab": {
     "base_uri": "https://localhost:8080/"
    },
    "id": "zyIPLKs5jg0O",
    "outputId": "1461c270-d9be-45c2-dead-524b94f80952",
    "pycharm": {
     "name": "#%%\n"
    }
   },
   "outputs": [
    {
     "name": "stdout",
     "output_type": "stream",
     "text": [
      "2 0.42364457559625074\n",
      "3 0.3209429394559654\n",
      "4 0.34089035600743633\n",
      "5 0.3093269262044076\n",
      "6 0.306083168911016\n",
      "7 0.2925199641494599\n",
      "8 0.23607377119675368\n",
      "9 0.23705796472082802\n"
     ]
    }
   ],
   "source": [
    "from sklearn import metrics\n",
    "\n",
    "for k in range(2, 10):\n",
    "\n",
    "  kmeans = KMeans(n_clusters=k)\n",
    "  kmeans.fit(dataset_usa_norm[['Murder','Assault','Rape','UrbanPop']])\n",
    "  score_mean = metrics.silhouette_score(dataset_usa_norm[['Murder','Assault','Rape','UrbanPop']], kmeans.labels_, metric='euclidean')\n",
    "  print(k, score_mean)\n",
    "\n"
   ]
  },
  {
   "cell_type": "code",
   "execution_count": 14,
   "metadata": {
    "colab": {
     "base_uri": "https://localhost:8080/"
    },
    "id": "cmOX6RskBGXx",
    "outputId": "7739ed50-58c1-4199-ffc4-a3b2e3644d40",
    "pycharm": {
     "name": "#%%\n"
    }
   },
   "outputs": [
    {
     "data": {
      "text/plain": [
       "KMeans(n_clusters=2)"
      ]
     },
     "execution_count": 14,
     "metadata": {},
     "output_type": "execute_result"
    }
   ],
   "source": [
    "kmeans = KMeans(n_clusters=2)\n",
    "kmeans.fit(dataset_usa_norm[['Murder','Assault','Rape','UrbanPop']])"
   ]
  },
  {
   "cell_type": "code",
   "execution_count": 15,
   "metadata": {
    "id": "H1DPCfSDBYEv",
    "pycharm": {
     "name": "#%%\n"
    }
   },
   "outputs": [],
   "source": [
    "clusters = kmeans.labels_.tolist()\n",
    "clusters_dict = { 'code': list(dataset_usa.Code), 'city': dataset_usa.index, 'cluster': clusters}\n",
    "dataframe_clusters = pd.DataFrame(clusters_dict, columns = ['cluster','code', 'city'])"
   ]
  },
  {
   "cell_type": "code",
   "execution_count": 16,
   "metadata": {
    "colab": {
     "base_uri": "https://localhost:8080/",
     "height": 1000
    },
    "id": "owLLy2GJJRMB",
    "outputId": "d16c03a2-4645-430c-8577-23b738ff2b23",
    "pycharm": {
     "name": "#%%\n"
    }
   },
   "outputs": [
    {
     "data": {
      "text/html": [
       "<div>\n",
       "<style scoped>\n",
       "    .dataframe tbody tr th:only-of-type {\n",
       "        vertical-align: middle;\n",
       "    }\n",
       "\n",
       "    .dataframe tbody tr th {\n",
       "        vertical-align: top;\n",
       "    }\n",
       "\n",
       "    .dataframe thead th {\n",
       "        text-align: right;\n",
       "    }\n",
       "</style>\n",
       "<table border=\"1\" class=\"dataframe\">\n",
       "  <thead>\n",
       "    <tr style=\"text-align: right;\">\n",
       "      <th></th>\n",
       "      <th>cluster</th>\n",
       "      <th>code</th>\n",
       "      <th>city</th>\n",
       "    </tr>\n",
       "  </thead>\n",
       "  <tbody>\n",
       "    <tr>\n",
       "      <th>0</th>\n",
       "      <td>0</td>\n",
       "      <td>AL</td>\n",
       "      <td>Alabama</td>\n",
       "    </tr>\n",
       "    <tr>\n",
       "      <th>1</th>\n",
       "      <td>0</td>\n",
       "      <td>AK</td>\n",
       "      <td>Alaska</td>\n",
       "    </tr>\n",
       "    <tr>\n",
       "      <th>2</th>\n",
       "      <td>0</td>\n",
       "      <td>AZ</td>\n",
       "      <td>Arizona</td>\n",
       "    </tr>\n",
       "    <tr>\n",
       "      <th>3</th>\n",
       "      <td>1</td>\n",
       "      <td>AR</td>\n",
       "      <td>Arkansas</td>\n",
       "    </tr>\n",
       "    <tr>\n",
       "      <th>4</th>\n",
       "      <td>0</td>\n",
       "      <td>CA</td>\n",
       "      <td>California</td>\n",
       "    </tr>\n",
       "    <tr>\n",
       "      <th>5</th>\n",
       "      <td>0</td>\n",
       "      <td>CO</td>\n",
       "      <td>Colorado</td>\n",
       "    </tr>\n",
       "    <tr>\n",
       "      <th>6</th>\n",
       "      <td>1</td>\n",
       "      <td>CT</td>\n",
       "      <td>Connecticut</td>\n",
       "    </tr>\n",
       "    <tr>\n",
       "      <th>7</th>\n",
       "      <td>1</td>\n",
       "      <td>DE</td>\n",
       "      <td>Delaware</td>\n",
       "    </tr>\n",
       "    <tr>\n",
       "      <th>8</th>\n",
       "      <td>0</td>\n",
       "      <td>FL</td>\n",
       "      <td>Florida</td>\n",
       "    </tr>\n",
       "    <tr>\n",
       "      <th>9</th>\n",
       "      <td>0</td>\n",
       "      <td>GA</td>\n",
       "      <td>Georgia</td>\n",
       "    </tr>\n",
       "    <tr>\n",
       "      <th>10</th>\n",
       "      <td>1</td>\n",
       "      <td>HI</td>\n",
       "      <td>Hawaii</td>\n",
       "    </tr>\n",
       "    <tr>\n",
       "      <th>11</th>\n",
       "      <td>1</td>\n",
       "      <td>ID</td>\n",
       "      <td>Idaho</td>\n",
       "    </tr>\n",
       "    <tr>\n",
       "      <th>12</th>\n",
       "      <td>0</td>\n",
       "      <td>IL</td>\n",
       "      <td>Illinois</td>\n",
       "    </tr>\n",
       "    <tr>\n",
       "      <th>13</th>\n",
       "      <td>1</td>\n",
       "      <td>IN</td>\n",
       "      <td>Indiana</td>\n",
       "    </tr>\n",
       "    <tr>\n",
       "      <th>14</th>\n",
       "      <td>1</td>\n",
       "      <td>IA</td>\n",
       "      <td>Iowa</td>\n",
       "    </tr>\n",
       "    <tr>\n",
       "      <th>15</th>\n",
       "      <td>1</td>\n",
       "      <td>KS</td>\n",
       "      <td>Kansas</td>\n",
       "    </tr>\n",
       "    <tr>\n",
       "      <th>16</th>\n",
       "      <td>1</td>\n",
       "      <td>KY</td>\n",
       "      <td>Kentucky</td>\n",
       "    </tr>\n",
       "    <tr>\n",
       "      <th>17</th>\n",
       "      <td>0</td>\n",
       "      <td>LA</td>\n",
       "      <td>Louisiana</td>\n",
       "    </tr>\n",
       "    <tr>\n",
       "      <th>18</th>\n",
       "      <td>1</td>\n",
       "      <td>ME</td>\n",
       "      <td>Maine</td>\n",
       "    </tr>\n",
       "    <tr>\n",
       "      <th>19</th>\n",
       "      <td>0</td>\n",
       "      <td>MD</td>\n",
       "      <td>Maryland</td>\n",
       "    </tr>\n",
       "    <tr>\n",
       "      <th>20</th>\n",
       "      <td>1</td>\n",
       "      <td>MA</td>\n",
       "      <td>Massachusetts</td>\n",
       "    </tr>\n",
       "    <tr>\n",
       "      <th>21</th>\n",
       "      <td>0</td>\n",
       "      <td>MI</td>\n",
       "      <td>Michigan</td>\n",
       "    </tr>\n",
       "    <tr>\n",
       "      <th>22</th>\n",
       "      <td>1</td>\n",
       "      <td>MN</td>\n",
       "      <td>Minnesota</td>\n",
       "    </tr>\n",
       "    <tr>\n",
       "      <th>23</th>\n",
       "      <td>0</td>\n",
       "      <td>MS</td>\n",
       "      <td>Mississippi</td>\n",
       "    </tr>\n",
       "    <tr>\n",
       "      <th>24</th>\n",
       "      <td>0</td>\n",
       "      <td>MO</td>\n",
       "      <td>Missouri</td>\n",
       "    </tr>\n",
       "    <tr>\n",
       "      <th>25</th>\n",
       "      <td>1</td>\n",
       "      <td>MT</td>\n",
       "      <td>Montana</td>\n",
       "    </tr>\n",
       "    <tr>\n",
       "      <th>26</th>\n",
       "      <td>1</td>\n",
       "      <td>NE</td>\n",
       "      <td>Nebraska</td>\n",
       "    </tr>\n",
       "    <tr>\n",
       "      <th>27</th>\n",
       "      <td>0</td>\n",
       "      <td>NV</td>\n",
       "      <td>Nevada</td>\n",
       "    </tr>\n",
       "    <tr>\n",
       "      <th>28</th>\n",
       "      <td>1</td>\n",
       "      <td>NH</td>\n",
       "      <td>New Hampshire</td>\n",
       "    </tr>\n",
       "    <tr>\n",
       "      <th>29</th>\n",
       "      <td>1</td>\n",
       "      <td>NJ</td>\n",
       "      <td>New Jersey</td>\n",
       "    </tr>\n",
       "    <tr>\n",
       "      <th>30</th>\n",
       "      <td>0</td>\n",
       "      <td>NM</td>\n",
       "      <td>New Mexico</td>\n",
       "    </tr>\n",
       "    <tr>\n",
       "      <th>31</th>\n",
       "      <td>0</td>\n",
       "      <td>NY</td>\n",
       "      <td>New York</td>\n",
       "    </tr>\n",
       "    <tr>\n",
       "      <th>32</th>\n",
       "      <td>0</td>\n",
       "      <td>NC</td>\n",
       "      <td>North Carolina</td>\n",
       "    </tr>\n",
       "    <tr>\n",
       "      <th>33</th>\n",
       "      <td>1</td>\n",
       "      <td>ND</td>\n",
       "      <td>North Dakota</td>\n",
       "    </tr>\n",
       "    <tr>\n",
       "      <th>34</th>\n",
       "      <td>1</td>\n",
       "      <td>OH</td>\n",
       "      <td>Ohio</td>\n",
       "    </tr>\n",
       "    <tr>\n",
       "      <th>35</th>\n",
       "      <td>1</td>\n",
       "      <td>OK</td>\n",
       "      <td>Oklahoma</td>\n",
       "    </tr>\n",
       "    <tr>\n",
       "      <th>36</th>\n",
       "      <td>1</td>\n",
       "      <td>OR</td>\n",
       "      <td>Oregon</td>\n",
       "    </tr>\n",
       "    <tr>\n",
       "      <th>37</th>\n",
       "      <td>1</td>\n",
       "      <td>PA</td>\n",
       "      <td>Pennsylvania</td>\n",
       "    </tr>\n",
       "    <tr>\n",
       "      <th>38</th>\n",
       "      <td>1</td>\n",
       "      <td>RI</td>\n",
       "      <td>Rhode Island</td>\n",
       "    </tr>\n",
       "    <tr>\n",
       "      <th>39</th>\n",
       "      <td>0</td>\n",
       "      <td>SC</td>\n",
       "      <td>South Carolina</td>\n",
       "    </tr>\n",
       "    <tr>\n",
       "      <th>40</th>\n",
       "      <td>1</td>\n",
       "      <td>SD</td>\n",
       "      <td>South Dakota</td>\n",
       "    </tr>\n",
       "    <tr>\n",
       "      <th>41</th>\n",
       "      <td>0</td>\n",
       "      <td>TN</td>\n",
       "      <td>Tennessee</td>\n",
       "    </tr>\n",
       "    <tr>\n",
       "      <th>42</th>\n",
       "      <td>0</td>\n",
       "      <td>TX</td>\n",
       "      <td>Texas</td>\n",
       "    </tr>\n",
       "    <tr>\n",
       "      <th>43</th>\n",
       "      <td>1</td>\n",
       "      <td>UT</td>\n",
       "      <td>Utah</td>\n",
       "    </tr>\n",
       "    <tr>\n",
       "      <th>44</th>\n",
       "      <td>1</td>\n",
       "      <td>VT</td>\n",
       "      <td>Vermont</td>\n",
       "    </tr>\n",
       "    <tr>\n",
       "      <th>45</th>\n",
       "      <td>1</td>\n",
       "      <td>VA</td>\n",
       "      <td>Virginia</td>\n",
       "    </tr>\n",
       "    <tr>\n",
       "      <th>46</th>\n",
       "      <td>1</td>\n",
       "      <td>WA</td>\n",
       "      <td>Washington</td>\n",
       "    </tr>\n",
       "    <tr>\n",
       "      <th>47</th>\n",
       "      <td>1</td>\n",
       "      <td>WV</td>\n",
       "      <td>West Virginia</td>\n",
       "    </tr>\n",
       "    <tr>\n",
       "      <th>48</th>\n",
       "      <td>1</td>\n",
       "      <td>WI</td>\n",
       "      <td>Wisconsin</td>\n",
       "    </tr>\n",
       "    <tr>\n",
       "      <th>49</th>\n",
       "      <td>1</td>\n",
       "      <td>WY</td>\n",
       "      <td>Wyoming</td>\n",
       "    </tr>\n",
       "  </tbody>\n",
       "</table>\n",
       "</div>"
      ],
      "text/plain": [
       "    cluster code            city\n",
       "0         0   AL         Alabama\n",
       "1         0   AK          Alaska\n",
       "2         0   AZ         Arizona\n",
       "3         1   AR        Arkansas\n",
       "4         0   CA      California\n",
       "5         0   CO        Colorado\n",
       "6         1   CT     Connecticut\n",
       "7         1   DE        Delaware\n",
       "8         0   FL         Florida\n",
       "9         0   GA         Georgia\n",
       "10        1   HI          Hawaii\n",
       "11        1   ID           Idaho\n",
       "12        0   IL        Illinois\n",
       "13        1   IN         Indiana\n",
       "14        1   IA            Iowa\n",
       "15        1   KS          Kansas\n",
       "16        1   KY        Kentucky\n",
       "17        0   LA       Louisiana\n",
       "18        1   ME           Maine\n",
       "19        0   MD        Maryland\n",
       "20        1   MA   Massachusetts\n",
       "21        0   MI        Michigan\n",
       "22        1   MN       Minnesota\n",
       "23        0   MS     Mississippi\n",
       "24        0   MO        Missouri\n",
       "25        1   MT         Montana\n",
       "26        1   NE        Nebraska\n",
       "27        0   NV          Nevada\n",
       "28        1   NH   New Hampshire\n",
       "29        1   NJ      New Jersey\n",
       "30        0   NM      New Mexico\n",
       "31        0   NY        New York\n",
       "32        0   NC  North Carolina\n",
       "33        1   ND    North Dakota\n",
       "34        1   OH            Ohio\n",
       "35        1   OK        Oklahoma\n",
       "36        1   OR          Oregon\n",
       "37        1   PA    Pennsylvania\n",
       "38        1   RI    Rhode Island\n",
       "39        0   SC  South Carolina\n",
       "40        1   SD    South Dakota\n",
       "41        0   TN       Tennessee\n",
       "42        0   TX           Texas\n",
       "43        1   UT            Utah\n",
       "44        1   VT         Vermont\n",
       "45        1   VA        Virginia\n",
       "46        1   WA      Washington\n",
       "47        1   WV   West Virginia\n",
       "48        1   WI       Wisconsin\n",
       "49        1   WY         Wyoming"
      ]
     },
     "execution_count": 16,
     "metadata": {},
     "output_type": "execute_result"
    }
   ],
   "source": [
    "dataframe_clusters"
   ]
  },
  {
   "cell_type": "markdown",
   "metadata": {
    "id": "vHEQnvtrqwBv",
    "pycharm": {
     "name": "#%% md\n"
    }
   },
   "source": [
    "## Visualização\n",
    "\n",
    "### K-Means"
   ]
  },
  {
   "cell_type": "code",
   "execution_count": 29,
   "metadata": {
    "colab": {
     "base_uri": "https://localhost:8080/",
     "height": 542
    },
    "id": "8qTvAhctF_bf",
    "outputId": "16823596-b6dd-42c8-ef9a-c8644b97016f",
    "pycharm": {
     "name": "#%%\n"
    }
   },
   "outputs": [
    {
     "data": {
      "application/vnd.plotly.v1+json": {
       "config": {
        "plotlyServerURL": "https://plot.ly"
       },
       "data": [
        {
         "colorbar": {
          "title": {
           "text": "Cluster"
          }
         },
         "colorscale": [
          [
           0,
           "rgb(196, 230, 195)"
          ],
          [
           0.16666666666666666,
           "rgb(150, 210, 164)"
          ],
          [
           0.3333333333333333,
           "rgb(109, 188, 144)"
          ],
          [
           0.5,
           "rgb(77, 162, 132)"
          ],
          [
           0.6666666666666666,
           "rgb(54, 135, 122)"
          ],
          [
           0.8333333333333334,
           "rgb(38, 107, 110)"
          ],
          [
           1,
           "rgb(29, 79, 96)"
          ]
         ],
         "locationmode": "USA-states",
         "locations": [
          "AL",
          "AK",
          "AZ",
          "AR",
          "CA",
          "CO",
          "CT",
          "DE",
          "FL",
          "GA",
          "HI",
          "ID",
          "IL",
          "IN",
          "IA",
          "KS",
          "KY",
          "LA",
          "ME",
          "MD",
          "MA",
          "MI",
          "MN",
          "MS",
          "MO",
          "MT",
          "NE",
          "NV",
          "NH",
          "NJ",
          "NM",
          "NY",
          "NC",
          "ND",
          "OH",
          "OK",
          "OR",
          "PA",
          "RI",
          "SC",
          "SD",
          "TN",
          "TX",
          "UT",
          "VT",
          "VA",
          "WA",
          "WV",
          "WI",
          "WY"
         ],
         "type": "choropleth",
         "z": [
          0,
          0,
          0,
          1,
          0,
          0,
          1,
          1,
          0,
          0,
          1,
          1,
          0,
          1,
          1,
          1,
          1,
          0,
          1,
          0,
          1,
          0,
          1,
          0,
          0,
          1,
          1,
          0,
          1,
          1,
          0,
          0,
          0,
          1,
          1,
          1,
          1,
          1,
          1,
          0,
          1,
          0,
          0,
          1,
          1,
          1,
          1,
          1,
          1,
          1
         ]
        }
       ],
       "layout": {
        "geo": {
         "scope": "usa"
        },
        "template": {
         "data": {
          "bar": [
           {
            "error_x": {
             "color": "#2a3f5f"
            },
            "error_y": {
             "color": "#2a3f5f"
            },
            "marker": {
             "line": {
              "color": "#E5ECF6",
              "width": 0.5
             },
             "pattern": {
              "fillmode": "overlay",
              "size": 10,
              "solidity": 0.2
             }
            },
            "type": "bar"
           }
          ],
          "barpolar": [
           {
            "marker": {
             "line": {
              "color": "#E5ECF6",
              "width": 0.5
             },
             "pattern": {
              "fillmode": "overlay",
              "size": 10,
              "solidity": 0.2
             }
            },
            "type": "barpolar"
           }
          ],
          "carpet": [
           {
            "aaxis": {
             "endlinecolor": "#2a3f5f",
             "gridcolor": "white",
             "linecolor": "white",
             "minorgridcolor": "white",
             "startlinecolor": "#2a3f5f"
            },
            "baxis": {
             "endlinecolor": "#2a3f5f",
             "gridcolor": "white",
             "linecolor": "white",
             "minorgridcolor": "white",
             "startlinecolor": "#2a3f5f"
            },
            "type": "carpet"
           }
          ],
          "choropleth": [
           {
            "colorbar": {
             "outlinewidth": 0,
             "ticks": ""
            },
            "type": "choropleth"
           }
          ],
          "contour": [
           {
            "colorbar": {
             "outlinewidth": 0,
             "ticks": ""
            },
            "colorscale": [
             [
              0,
              "#0d0887"
             ],
             [
              0.1111111111111111,
              "#46039f"
             ],
             [
              0.2222222222222222,
              "#7201a8"
             ],
             [
              0.3333333333333333,
              "#9c179e"
             ],
             [
              0.4444444444444444,
              "#bd3786"
             ],
             [
              0.5555555555555556,
              "#d8576b"
             ],
             [
              0.6666666666666666,
              "#ed7953"
             ],
             [
              0.7777777777777778,
              "#fb9f3a"
             ],
             [
              0.8888888888888888,
              "#fdca26"
             ],
             [
              1,
              "#f0f921"
             ]
            ],
            "type": "contour"
           }
          ],
          "contourcarpet": [
           {
            "colorbar": {
             "outlinewidth": 0,
             "ticks": ""
            },
            "type": "contourcarpet"
           }
          ],
          "heatmap": [
           {
            "colorbar": {
             "outlinewidth": 0,
             "ticks": ""
            },
            "colorscale": [
             [
              0,
              "#0d0887"
             ],
             [
              0.1111111111111111,
              "#46039f"
             ],
             [
              0.2222222222222222,
              "#7201a8"
             ],
             [
              0.3333333333333333,
              "#9c179e"
             ],
             [
              0.4444444444444444,
              "#bd3786"
             ],
             [
              0.5555555555555556,
              "#d8576b"
             ],
             [
              0.6666666666666666,
              "#ed7953"
             ],
             [
              0.7777777777777778,
              "#fb9f3a"
             ],
             [
              0.8888888888888888,
              "#fdca26"
             ],
             [
              1,
              "#f0f921"
             ]
            ],
            "type": "heatmap"
           }
          ],
          "heatmapgl": [
           {
            "colorbar": {
             "outlinewidth": 0,
             "ticks": ""
            },
            "colorscale": [
             [
              0,
              "#0d0887"
             ],
             [
              0.1111111111111111,
              "#46039f"
             ],
             [
              0.2222222222222222,
              "#7201a8"
             ],
             [
              0.3333333333333333,
              "#9c179e"
             ],
             [
              0.4444444444444444,
              "#bd3786"
             ],
             [
              0.5555555555555556,
              "#d8576b"
             ],
             [
              0.6666666666666666,
              "#ed7953"
             ],
             [
              0.7777777777777778,
              "#fb9f3a"
             ],
             [
              0.8888888888888888,
              "#fdca26"
             ],
             [
              1,
              "#f0f921"
             ]
            ],
            "type": "heatmapgl"
           }
          ],
          "histogram": [
           {
            "marker": {
             "pattern": {
              "fillmode": "overlay",
              "size": 10,
              "solidity": 0.2
             }
            },
            "type": "histogram"
           }
          ],
          "histogram2d": [
           {
            "colorbar": {
             "outlinewidth": 0,
             "ticks": ""
            },
            "colorscale": [
             [
              0,
              "#0d0887"
             ],
             [
              0.1111111111111111,
              "#46039f"
             ],
             [
              0.2222222222222222,
              "#7201a8"
             ],
             [
              0.3333333333333333,
              "#9c179e"
             ],
             [
              0.4444444444444444,
              "#bd3786"
             ],
             [
              0.5555555555555556,
              "#d8576b"
             ],
             [
              0.6666666666666666,
              "#ed7953"
             ],
             [
              0.7777777777777778,
              "#fb9f3a"
             ],
             [
              0.8888888888888888,
              "#fdca26"
             ],
             [
              1,
              "#f0f921"
             ]
            ],
            "type": "histogram2d"
           }
          ],
          "histogram2dcontour": [
           {
            "colorbar": {
             "outlinewidth": 0,
             "ticks": ""
            },
            "colorscale": [
             [
              0,
              "#0d0887"
             ],
             [
              0.1111111111111111,
              "#46039f"
             ],
             [
              0.2222222222222222,
              "#7201a8"
             ],
             [
              0.3333333333333333,
              "#9c179e"
             ],
             [
              0.4444444444444444,
              "#bd3786"
             ],
             [
              0.5555555555555556,
              "#d8576b"
             ],
             [
              0.6666666666666666,
              "#ed7953"
             ],
             [
              0.7777777777777778,
              "#fb9f3a"
             ],
             [
              0.8888888888888888,
              "#fdca26"
             ],
             [
              1,
              "#f0f921"
             ]
            ],
            "type": "histogram2dcontour"
           }
          ],
          "mesh3d": [
           {
            "colorbar": {
             "outlinewidth": 0,
             "ticks": ""
            },
            "type": "mesh3d"
           }
          ],
          "parcoords": [
           {
            "line": {
             "colorbar": {
              "outlinewidth": 0,
              "ticks": ""
             }
            },
            "type": "parcoords"
           }
          ],
          "pie": [
           {
            "automargin": true,
            "type": "pie"
           }
          ],
          "scatter": [
           {
            "marker": {
             "colorbar": {
              "outlinewidth": 0,
              "ticks": ""
             }
            },
            "type": "scatter"
           }
          ],
          "scatter3d": [
           {
            "line": {
             "colorbar": {
              "outlinewidth": 0,
              "ticks": ""
             }
            },
            "marker": {
             "colorbar": {
              "outlinewidth": 0,
              "ticks": ""
             }
            },
            "type": "scatter3d"
           }
          ],
          "scattercarpet": [
           {
            "marker": {
             "colorbar": {
              "outlinewidth": 0,
              "ticks": ""
             }
            },
            "type": "scattercarpet"
           }
          ],
          "scattergeo": [
           {
            "marker": {
             "colorbar": {
              "outlinewidth": 0,
              "ticks": ""
             }
            },
            "type": "scattergeo"
           }
          ],
          "scattergl": [
           {
            "marker": {
             "colorbar": {
              "outlinewidth": 0,
              "ticks": ""
             }
            },
            "type": "scattergl"
           }
          ],
          "scattermapbox": [
           {
            "marker": {
             "colorbar": {
              "outlinewidth": 0,
              "ticks": ""
             }
            },
            "type": "scattermapbox"
           }
          ],
          "scatterpolar": [
           {
            "marker": {
             "colorbar": {
              "outlinewidth": 0,
              "ticks": ""
             }
            },
            "type": "scatterpolar"
           }
          ],
          "scatterpolargl": [
           {
            "marker": {
             "colorbar": {
              "outlinewidth": 0,
              "ticks": ""
             }
            },
            "type": "scatterpolargl"
           }
          ],
          "scatterternary": [
           {
            "marker": {
             "colorbar": {
              "outlinewidth": 0,
              "ticks": ""
             }
            },
            "type": "scatterternary"
           }
          ],
          "surface": [
           {
            "colorbar": {
             "outlinewidth": 0,
             "ticks": ""
            },
            "colorscale": [
             [
              0,
              "#0d0887"
             ],
             [
              0.1111111111111111,
              "#46039f"
             ],
             [
              0.2222222222222222,
              "#7201a8"
             ],
             [
              0.3333333333333333,
              "#9c179e"
             ],
             [
              0.4444444444444444,
              "#bd3786"
             ],
             [
              0.5555555555555556,
              "#d8576b"
             ],
             [
              0.6666666666666666,
              "#ed7953"
             ],
             [
              0.7777777777777778,
              "#fb9f3a"
             ],
             [
              0.8888888888888888,
              "#fdca26"
             ],
             [
              1,
              "#f0f921"
             ]
            ],
            "type": "surface"
           }
          ],
          "table": [
           {
            "cells": {
             "fill": {
              "color": "#EBF0F8"
             },
             "line": {
              "color": "white"
             }
            },
            "header": {
             "fill": {
              "color": "#C8D4E3"
             },
             "line": {
              "color": "white"
             }
            },
            "type": "table"
           }
          ]
         },
         "layout": {
          "annotationdefaults": {
           "arrowcolor": "#2a3f5f",
           "arrowhead": 0,
           "arrowwidth": 1
          },
          "autotypenumbers": "strict",
          "coloraxis": {
           "colorbar": {
            "outlinewidth": 0,
            "ticks": ""
           }
          },
          "colorscale": {
           "diverging": [
            [
             0,
             "#8e0152"
            ],
            [
             0.1,
             "#c51b7d"
            ],
            [
             0.2,
             "#de77ae"
            ],
            [
             0.3,
             "#f1b6da"
            ],
            [
             0.4,
             "#fde0ef"
            ],
            [
             0.5,
             "#f7f7f7"
            ],
            [
             0.6,
             "#e6f5d0"
            ],
            [
             0.7,
             "#b8e186"
            ],
            [
             0.8,
             "#7fbc41"
            ],
            [
             0.9,
             "#4d9221"
            ],
            [
             1,
             "#276419"
            ]
           ],
           "sequential": [
            [
             0,
             "#0d0887"
            ],
            [
             0.1111111111111111,
             "#46039f"
            ],
            [
             0.2222222222222222,
             "#7201a8"
            ],
            [
             0.3333333333333333,
             "#9c179e"
            ],
            [
             0.4444444444444444,
             "#bd3786"
            ],
            [
             0.5555555555555556,
             "#d8576b"
            ],
            [
             0.6666666666666666,
             "#ed7953"
            ],
            [
             0.7777777777777778,
             "#fb9f3a"
            ],
            [
             0.8888888888888888,
             "#fdca26"
            ],
            [
             1,
             "#f0f921"
            ]
           ],
           "sequentialminus": [
            [
             0,
             "#0d0887"
            ],
            [
             0.1111111111111111,
             "#46039f"
            ],
            [
             0.2222222222222222,
             "#7201a8"
            ],
            [
             0.3333333333333333,
             "#9c179e"
            ],
            [
             0.4444444444444444,
             "#bd3786"
            ],
            [
             0.5555555555555556,
             "#d8576b"
            ],
            [
             0.6666666666666666,
             "#ed7953"
            ],
            [
             0.7777777777777778,
             "#fb9f3a"
            ],
            [
             0.8888888888888888,
             "#fdca26"
            ],
            [
             1,
             "#f0f921"
            ]
           ]
          },
          "colorway": [
           "#636efa",
           "#EF553B",
           "#00cc96",
           "#ab63fa",
           "#FFA15A",
           "#19d3f3",
           "#FF6692",
           "#B6E880",
           "#FF97FF",
           "#FECB52"
          ],
          "font": {
           "color": "#2a3f5f"
          },
          "geo": {
           "bgcolor": "white",
           "lakecolor": "white",
           "landcolor": "#E5ECF6",
           "showlakes": true,
           "showland": true,
           "subunitcolor": "white"
          },
          "hoverlabel": {
           "align": "left"
          },
          "hovermode": "closest",
          "mapbox": {
           "style": "light"
          },
          "paper_bgcolor": "white",
          "plot_bgcolor": "#E5ECF6",
          "polar": {
           "angularaxis": {
            "gridcolor": "white",
            "linecolor": "white",
            "ticks": ""
           },
           "bgcolor": "#E5ECF6",
           "radialaxis": {
            "gridcolor": "white",
            "linecolor": "white",
            "ticks": ""
           }
          },
          "scene": {
           "xaxis": {
            "backgroundcolor": "#E5ECF6",
            "gridcolor": "white",
            "gridwidth": 2,
            "linecolor": "white",
            "showbackground": true,
            "ticks": "",
            "zerolinecolor": "white"
           },
           "yaxis": {
            "backgroundcolor": "#E5ECF6",
            "gridcolor": "white",
            "gridwidth": 2,
            "linecolor": "white",
            "showbackground": true,
            "ticks": "",
            "zerolinecolor": "white"
           },
           "zaxis": {
            "backgroundcolor": "#E5ECF6",
            "gridcolor": "white",
            "gridwidth": 2,
            "linecolor": "white",
            "showbackground": true,
            "ticks": "",
            "zerolinecolor": "white"
           }
          },
          "shapedefaults": {
           "line": {
            "color": "#2a3f5f"
           }
          },
          "ternary": {
           "aaxis": {
            "gridcolor": "white",
            "linecolor": "white",
            "ticks": ""
           },
           "baxis": {
            "gridcolor": "white",
            "linecolor": "white",
            "ticks": ""
           },
           "bgcolor": "#E5ECF6",
           "caxis": {
            "gridcolor": "white",
            "linecolor": "white",
            "ticks": ""
           }
          },
          "title": {
           "x": 0.05
          },
          "xaxis": {
           "automargin": true,
           "gridcolor": "white",
           "linecolor": "white",
           "ticks": "",
           "title": {
            "standoff": 15
           },
           "zerolinecolor": "white",
           "zerolinewidth": 2
          },
          "yaxis": {
           "automargin": true,
           "gridcolor": "white",
           "linecolor": "white",
           "ticks": "",
           "title": {
            "standoff": 15
           },
           "zerolinecolor": "white",
           "zerolinewidth": 2
          }
         }
        },
        "title": {
         "text": "Clusterização de Regiões - KMeans"
        }
       }
      }
     },
     "metadata": {},
     "output_type": "display_data"
    }
   ],
   "source": [
    "fig = go.Figure(data=go.Choropleth(\n",
    "    locations=dataframe_clusters['code'], # Spatial coordinates\n",
    "    z = dataframe_clusters['cluster'].astype(float), # Data to be color-coded\n",
    "    locationmode = 'USA-states', # set of locations match entries in `locations`\n",
    "    colorscale = 'blugrn',\n",
    "    colorbar_title = \"Cluster\",\n",
    "))\n",
    "\n",
    "fig.update_layout(\n",
    "    title_text = 'Clusterização de Regiões - KMeans',\n",
    "    geo_scope='usa', # limite map scope to USA\n",
    ")\n",
    "\n",
    "fig.show()"
   ]
  }
 ],
 "metadata": {
  "colab": {
   "collapsed_sections": [],
   "include_colab_link": true,
   "name": "ExemploClusterizacao.ipynb",
   "provenance": []
  },
  "kernelspec": {
   "display_name": "Python 3",
   "name": "python3"
  },
  "language_info": {
   "codemirror_mode": {
    "name": "ipython",
    "version": 3
   },
   "file_extension": ".py",
   "mimetype": "text/x-python",
   "name": "python",
   "nbconvert_exporter": "python",
   "pygments_lexer": "ipython3",
   "version": "3.9.7"
  }
 },
 "nbformat": 4,
 "nbformat_minor": 0
}