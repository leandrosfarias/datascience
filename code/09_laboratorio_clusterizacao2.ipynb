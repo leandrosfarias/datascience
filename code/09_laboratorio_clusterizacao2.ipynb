{
 "cells": [
  {
   "cell_type": "markdown",
   "metadata": {
    "colab_type": "text",
    "id": "view-in-github",
    "pycharm": {
     "name": "#%% md\n"
    }
   },
   "source": [
    "<a href=\"https://colab.research.google.com/github/adolfoguimaraes/datascience/blob/main/code/09_laboratorio_clusterizacao2.ipynb\" target=\"_parent\"><img src=\"https://colab.research.google.com/assets/colab-badge.svg\" alt=\"Open In Colab\"/></a>"
   ]
  },
  {
   "cell_type": "markdown",
   "metadata": {
    "id": "OsCNkUufrY-6",
    "pycharm": {
     "name": "#%% md\n"
    }
   },
   "source": [
    "# Cluterização de Documentos Textuais\n",
    "\n",
    "Nesse laboratório vamos aplicar técnicas de clusterização para agrupar documentos textuais. Como base de textos, vamos usar as sinopses dos TOP 250 filmes do site IMDB. As informações serão coletadas a partir da API [imdbpy](https://imdbpy.readthedocs.io/).\n",
    "\n",
    "Vamos seguir as seguinte estratégia:\n",
    "\n",
    "1. Instalação do pacote **imdbpy**;\n",
    "2. Coletar as informações dos filmes utilizando a biblioteca;\n",
    "3. Pré-processar os textos coletados para adequar ao formato aceito pelos algoritmos de clusterização;\n",
    "4. Aplicar a clusterização avaliando o valor da métrica [Sillhoutte](https://scikit-learn.org/stable/modules/generated/sklearn.metrics.silhouette_score.html) e analisando o [Dendrograma](https://docs.scipy.org/doc/scipy/reference/generated/scipy.cluster.hierarchy.dendrogram.html);\n",
    "5. Analisar os clusters  gerados a partir da análise dos centroídes.\n",
    "\n",
    "Vamos começar :)"
   ]
  },
  {
   "cell_type": "markdown",
   "metadata": {
    "id": "FXBTHcnStXgf",
    "pycharm": {
     "name": "#%% md\n"
    }
   },
   "source": [
    "## 1. Instalação  do pacote `imdbpy`.\n",
    "\n",
    "O pacote imdbpy permite coletar informações que são publicadas no site IMDb, um dos principais sites de cinema do mundo. Com a API é possível peagar informações sobre os filmes como título, ano, gênero, lista de atores, autores e demais informações. Veja a documentação para verificar as informações que podem ser coletadas."
   ]
  },
  {
   "cell_type": "code",
   "execution_count": 1,
   "metadata": {
    "colab": {
     "base_uri": "https://localhost:8080/"
    },
    "id": "4y8ruuNzyEPQ",
    "outputId": "ed6cbf43-4b67-439b-8eee-03dd5fcaa9bd",
    "pycharm": {
     "name": "#%%\n"
    }
   },
   "outputs": [
    {
     "name": "stdout",
     "output_type": "stream",
     "text": [
      "Requirement already satisfied: imdbpy in c:\\users\\leand\\anaconda3\\lib\\site-packages (2022.7.9)\n",
      "Requirement already satisfied: cinemagoer in c:\\users\\leand\\anaconda3\\lib\\site-packages (from imdbpy) (2022.2.11)\n",
      "Requirement already satisfied: SQLAlchemy in c:\\users\\leand\\anaconda3\\lib\\site-packages (from cinemagoer->imdbpy) (1.4.32)\n",
      "Requirement already satisfied: lxml in c:\\users\\leand\\anaconda3\\lib\\site-packages (from cinemagoer->imdbpy) (4.8.0)\n",
      "Requirement already satisfied: greenlet!=0.4.17 in c:\\users\\leand\\anaconda3\\lib\\site-packages (from SQLAlchemy->cinemagoer->imdbpy) (1.1.1)\n"
     ]
    }
   ],
   "source": [
    "# Instalação do pacote imdbpy\n",
    "!pip install imdbpy"
   ]
  },
  {
   "cell_type": "markdown",
   "metadata": {
    "id": "NfXxTLYyxrIE",
    "pycharm": {
     "name": "#%% md\n"
    }
   },
   "source": [
    "## 2. Coletar informações dos filmes utilizando a biblioteca `imdbpy`\n",
    "\n",
    "Nessa etapa vamos coletar as informações dos top 250 filmes do IMDbPy e armazenar em um dataframe pandas. Para isso, vamos importar os pacotes necessários e executar a coleta das informações. "
   ]
  },
  {
   "cell_type": "code",
   "execution_count": 3,
   "metadata": {
    "id": "_3dOqTadx9-W",
    "pycharm": {
     "name": "#%%\n"
    }
   },
   "outputs": [],
   "source": [
    "# Imports necessários para essa etapa\n",
    "\n",
    "from imdb import IMDb\n",
    "import pandas as pd"
   ]
  },
  {
   "cell_type": "code",
   "execution_count": 4,
   "metadata": {
    "id": "3fFE0k5GyMbv",
    "pycharm": {
     "name": "#%%\n"
    }
   },
   "outputs": [],
   "source": [
    "# Coletar as referências as fiilmes\n",
    "\n",
    "imdb = IMDb()\n",
    "top250 = imdb.get_top250_movies()"
   ]
  },
  {
   "cell_type": "code",
   "execution_count": 5,
   "metadata": {
    "colab": {
     "base_uri": "https://localhost:8080/"
    },
    "id": "ZvyyEJZRyXDj",
    "outputId": "08b298ce-4381-48c7-9429-7bff80716483",
    "pycharm": {
     "name": "#%%\n"
    }
   },
   "outputs": [
    {
     "name": "stdout",
     "output_type": "stream",
     "text": [
      "Movie 0 - collecting The Shawshank Redemption\n",
      "Movie 1 - collecting The Godfather\n",
      "Movie 2 - collecting The Dark Knight\n",
      "Movie 3 - collecting The Godfather Part II\n",
      "Movie 4 - collecting 12 Angry Men\n",
      "Movie 5 - collecting Schindler's List\n",
      "Movie 6 - collecting The Lord of the Rings: The Return of the King\n",
      "Movie 7 - collecting Pulp Fiction\n",
      "Movie 8 - collecting The Lord of the Rings: The Fellowship of the Ring\n",
      "Movie 9 - collecting The Good, the Bad and the Ugly\n",
      "Movie 10 - collecting Forrest Gump\n",
      "Movie 11 - collecting Fight Club\n",
      "Movie 12 - collecting The Lord of the Rings: The Two Towers\n",
      "Movie 13 - collecting Inception\n",
      "Movie 14 - collecting Star Wars: Episode V - The Empire Strikes Back\n",
      "Movie 15 - collecting The Matrix\n",
      "Movie 16 - collecting Goodfellas\n",
      "Movie 17 - collecting One Flew Over the Cuckoo's Nest\n",
      "Movie 18 - collecting Se7en\n",
      "Movie 19 - collecting Seven Samurai\n",
      "Movie 20 - collecting It's a Wonderful Life\n",
      "Movie 21 - collecting The Silence of the Lambs\n",
      "Movie 22 - collecting City of God\n",
      "Movie 23 - collecting Saving Private Ryan\n",
      "Movie 24 - collecting Life Is Beautiful\n",
      "Movie 25 - collecting Interstellar\n",
      "Movie 26 - collecting The Green Mile\n",
      "Movie 27 - collecting Star Wars: Episode IV - A New Hope\n",
      "Movie 28 - collecting Terminator 2: Judgment Day\n",
      "Movie 29 - collecting Back to the Future\n",
      "Movie 30 - collecting Spirited Away\n",
      "Movie 31 - collecting Psycho\n",
      "Movie 32 - collecting The Pianist\n",
      "Movie 33 - collecting Parasite\n",
      "Movie 34 - collecting Léon: The Professional\n",
      "Movie 35 - collecting The Lion King\n",
      "Movie 36 - collecting Gladiator\n",
      "Movie 37 - collecting American History X\n",
      "Movie 38 - collecting The Departed\n",
      "Movie 39 - collecting The Usual Suspects\n",
      "Movie 40 - collecting The Prestige\n",
      "Movie 41 - collecting Whiplash\n",
      "Movie 42 - collecting Casablanca\n",
      "Movie 43 - collecting Harakiri\n",
      "Movie 44 - collecting The Intouchables\n",
      "Movie 45 - collecting Grave of the Fireflies\n",
      "Movie 46 - collecting Modern Times\n",
      "Movie 47 - collecting Once Upon a Time in the West\n",
      "Movie 48 - collecting Rear Window\n",
      "Movie 49 - collecting Alien\n",
      "Movie 50 - collecting City Lights\n",
      "Movie 51 - collecting Cinema Paradiso\n",
      "Movie 52 - collecting Apocalypse Now\n",
      "Movie 53 - collecting Memento\n",
      "Movie 54 - collecting Indiana Jones and the Raiders of the Lost Ark\n",
      "Movie 55 - collecting Django Unchained\n",
      "Movie 56 - collecting WALL·E\n",
      "Movie 57 - collecting The Lives of Others\n",
      "Movie 58 - collecting Sunset Blvd.\n",
      "Movie 59 - collecting Paths of Glory\n",
      "Movie 60 - collecting The Great Dictator\n",
      "Movie 61 - collecting The Shining\n",
      "Movie 62 - collecting Avengers: Infinity War\n",
      "Movie 63 - collecting Witness for the Prosecution\n",
      "Movie 64 - collecting Aliens\n",
      "Movie 65 - collecting Spider-Man: Into the Spider-Verse\n",
      "Movie 66 - collecting American Beauty\n",
      "Movie 67 - collecting Dr. Strangelove or: How I Learned to Stop Worrying and Love the Bomb\n",
      "Movie 68 - collecting The Dark Knight Rises\n",
      "Movie 69 - collecting Oldboy\n",
      "Movie 70 - collecting Amadeus\n",
      "Movie 71 - collecting Joker\n",
      "Movie 72 - collecting Inglourious Basterds\n",
      "Movie 73 - collecting Coco\n",
      "Movie 74 - collecting Toy Story\n",
      "Movie 75 - collecting Braveheart\n",
      "Movie 76 - collecting The Boat\n",
      "Movie 77 - collecting Avengers: Endgame\n",
      "Movie 78 - collecting Princess Mononoke\n",
      "Movie 79 - collecting Once Upon a Time in America\n",
      "Movie 80 - collecting Good Will Hunting\n",
      "Movie 81 - collecting Top Gun: Maverick\n",
      "Movie 82 - collecting Your Name.\n",
      "Movie 83 - collecting Requiem for a Dream\n",
      "Movie 84 - collecting Singin' in the Rain\n",
      "Movie 85 - collecting 3 Idiots\n",
      "Movie 86 - collecting Toy Story 3\n",
      "Movie 87 - collecting High and Low\n",
      "Movie 88 - collecting Star Wars: Episode VI - Return of the Jedi\n",
      "Movie 89 - collecting Capernaum\n",
      "Movie 90 - collecting Eternal Sunshine of the Spotless Mind\n",
      "Movie 91 - collecting 2001: A Space Odyssey\n",
      "Movie 92 - collecting Reservoir Dogs\n",
      "Movie 93 - collecting The Hunt\n",
      "Movie 94 - collecting Come and See\n",
      "Movie 95 - collecting Citizen Kane\n",
      "Movie 96 - collecting M\n",
      "Movie 97 - collecting Lawrence of Arabia\n",
      "Movie 98 - collecting North by Northwest\n",
      "Movie 99 - collecting Vertigo\n",
      "Movie 100 - collecting Amélie\n",
      "Movie 101 - collecting A Clockwork Orange\n",
      "Movie 102 - collecting The Apartment\n",
      "Movie 103 - collecting Ikiru\n",
      "Movie 104 - collecting Double Indemnity\n",
      "Movie 105 - collecting Full Metal Jacket\n",
      "Movie 106 - collecting Scarface\n",
      "Movie 107 - collecting Hamilton\n",
      "Movie 108 - collecting The Sting\n",
      "Movie 109 - collecting To Kill a Mockingbird\n",
      "Movie 110 - collecting Incendies\n",
      "Movie 111 - collecting Up\n",
      "Movie 112 - collecting Heat\n",
      "Movie 113 - collecting Taxi Driver\n",
      "Movie 114 - collecting A Separation\n",
      "Movie 115 - collecting Metropolis\n",
      "Movie 116 - collecting L.A. Confidential\n",
      "Movie 117 - collecting Snatch\n",
      "Movie 118 - collecting Die Hard\n",
      "Movie 119 - collecting Bicycle Thieves\n",
      "Movie 120 - collecting Indiana Jones and the Last Crusade\n",
      "Movie 121 - collecting 1917\n",
      "Movie 122 - collecting Like Stars on Earth\n",
      "Movie 123 - collecting Downfall\n",
      "Movie 124 - collecting For a Few Dollars More\n",
      "Movie 125 - collecting Dangal\n",
      "Movie 126 - collecting Batman Begins\n",
      "Movie 127 - collecting The Kid\n",
      "Movie 128 - collecting Some Like It Hot\n",
      "Movie 129 - collecting The Father\n",
      "Movie 130 - collecting All About Eve\n",
      "Movie 131 - collecting Green Book\n",
      "Movie 132 - collecting The Wolf of Wall Street\n",
      "Movie 133 - collecting Judgment at Nuremberg\n",
      "Movie 134 - collecting Ran\n",
      "Movie 135 - collecting Casino\n",
      "Movie 136 - collecting Pan's Labyrinth\n",
      "Movie 137 - collecting Unforgiven\n",
      "Movie 138 - collecting There Will Be Blood\n",
      "Movie 139 - collecting The Truman Show\n",
      "Movie 140 - collecting The Sixth Sense\n",
      "Movie 141 - collecting A Beautiful Mind\n",
      "Movie 142 - collecting Spider-Man: No Way Home\n",
      "Movie 143 - collecting Yojimbo\n",
      "Movie 144 - collecting Shutter Island\n",
      "Movie 145 - collecting Monty Python and the Holy Grail\n",
      "Movie 146 - collecting The Treasure of the Sierra Madre\n",
      "Movie 147 - collecting Jurassic Park\n",
      "Movie 148 - collecting The Great Escape\n",
      "Movie 149 - collecting Rashomon\n",
      "Movie 150 - collecting Kill Bill: Vol. 1\n",
      "Movie 151 - collecting No Country for Old Men\n",
      "Movie 152 - collecting Finding Nemo\n",
      "Movie 153 - collecting The Thing\n",
      "Movie 154 - collecting The Elephant Man\n",
      "Movie 155 - collecting Chinatown\n",
      "Movie 156 - collecting Raging Bull\n",
      "Movie 157 - collecting V for Vendetta\n",
      "Movie 158 - collecting Gone with the Wind\n",
      "Movie 159 - collecting Inside Out\n",
      "Movie 160 - collecting Lock, Stock and Two Smoking Barrels\n",
      "Movie 161 - collecting Dial M for Murder\n",
      "Movie 162 - collecting The Secret in Their Eyes\n",
      "Movie 163 - collecting Howl's Moving Castle\n",
      "Movie 164 - collecting The Bridge on the River Kwai\n",
      "Movie 165 - collecting Three Billboards Outside Ebbing, Missouri\n",
      "Movie 166 - collecting Trainspotting\n",
      "Movie 167 - collecting Warrior\n",
      "Movie 168 - collecting Fargo\n",
      "Movie 169 - collecting Gran Torino\n",
      "Movie 170 - collecting Prisoners\n",
      "Movie 171 - collecting My Neighbor Totoro\n",
      "Movie 172 - collecting Million Dollar Baby\n",
      "Movie 173 - collecting Catch Me If You Can\n",
      "Movie 174 - collecting Children of Heaven\n",
      "Movie 175 - collecting The Gold Rush\n",
      "Movie 176 - collecting Blade Runner\n",
      "Movie 177 - collecting On the Waterfront\n",
      "Movie 178 - collecting Before Sunrise\n",
      "Movie 179 - collecting 12 Years a Slave\n",
      "Movie 180 - collecting Harry Potter and the Deathly Hallows: Part 2\n",
      "Movie 181 - collecting Ben-Hur\n",
      "Movie 182 - collecting Wild Strawberries\n",
      "Movie 183 - collecting The Third Man\n",
      "Movie 184 - collecting Gone Girl\n",
      "Movie 185 - collecting The General\n",
      "Movie 186 - collecting The Grand Budapest Hotel\n",
      "Movie 187 - collecting The Deer Hunter\n",
      "Movie 188 - collecting In the Name of the Father\n",
      "Movie 189 - collecting Barry Lyndon\n",
      "Movie 190 - collecting The Wages of Fear\n",
      "Movie 191 - collecting Klaus\n",
      "Movie 192 - collecting Hacksaw Ridge\n",
      "Movie 193 - collecting Mr. Smith Goes to Washington\n",
      "Movie 194 - collecting Sherlock Jr.\n",
      "Movie 195 - collecting Memories of Murder\n",
      "Movie 196 - collecting Wild Tales\n",
      "Movie 197 - collecting The Seventh Seal\n",
      "Movie 198 - collecting Room\n",
      "Movie 199 - collecting Mad Max: Fury Road\n",
      "Movie 200 - collecting Mary and Max\n",
      "Movie 201 - collecting How to Train Your Dragon\n",
      "Movie 202 - collecting The Big Lebowski\n",
      "Movie 203 - collecting Monsters, Inc.\n",
      "Movie 204 - collecting Jaws\n",
      "Movie 205 - collecting Dead Poets Society\n",
      "Movie 206 - collecting The Passion of Joan of Arc\n",
      "Movie 207 - collecting Tokyo Story\n",
      "Movie 208 - collecting Hotel Rwanda\n",
      "Movie 209 - collecting Ford v Ferrari\n",
      "Movie 210 - collecting Rocky\n",
      "Movie 211 - collecting Platoon\n",
      "Movie 212 - collecting Stand by Me\n",
      "Movie 213 - collecting The Terminator\n",
      "Movie 214 - collecting Spotlight\n",
      "Movie 215 - collecting Logan\n",
      "Movie 216 - collecting Ratatouille\n",
      "Movie 217 - collecting Pather Panchali\n",
      "Movie 218 - collecting Rush\n",
      "Movie 219 - collecting Network\n",
      "Movie 220 - collecting Into the Wild\n",
      "Movie 221 - collecting The Wizard of Oz\n",
      "Movie 222 - collecting Before Sunset\n",
      "Movie 223 - collecting Groundhog Day\n",
      "Movie 224 - collecting The Exorcist\n",
      "Movie 225 - collecting The Best Years of Our Lives\n",
      "Movie 226 - collecting The Incredibles\n",
      "Movie 227 - collecting The Battle of Algiers\n",
      "Movie 228 - collecting To Be or Not to Be\n",
      "Movie 229 - collecting Hachi: A Dog's Tale\n",
      "Movie 230 - collecting Jai Bhim\n",
      "Movie 231 - collecting Pirates of the Caribbean: The Curse of the Black Pearl\n",
      "Movie 232 - collecting The Grapes of Wrath\n",
      "Movie 233 - collecting La haine\n",
      "Movie 234 - collecting My Father and My Son\n",
      "Movie 235 - collecting Amores perros\n",
      "Movie 236 - collecting Rebecca\n",
      "Movie 237 - collecting Everything Everywhere All at Once\n",
      "Movie 238 - collecting Cool Hand Luke\n",
      "Movie 239 - collecting The 400 Blows\n",
      "Movie 240 - collecting The Handmaiden\n",
      "Movie 241 - collecting It Happened One Night\n",
      "Movie 242 - collecting The Sound of Music\n",
      "Movie 243 - collecting Persona\n",
      "Movie 244 - collecting Life of Brian\n",
      "Movie 245 - collecting Dersu Uzala\n",
      "Movie 246 - collecting Aladdin\n",
      "Movie 247 - collecting The Help\n",
      "Movie 248 - collecting The Iron Giant\n",
      "Movie 249 - collecting Gandhi\n"
     ]
    }
   ],
   "source": [
    "# Coletar as informações textuais dos filmes e criar o dataframe\n",
    "\n",
    "all_movies = {}\n",
    "count = 0\n",
    "\n",
    "for movie in top250:\n",
    "  imdb.update(movie, info=['plot'])\n",
    "  print(\"Movie %i - collecting %s\" % (count, movie['title']))\n",
    "  all_movies[count] = movie\n",
    "  count += 1"
   ]
  },
  {
   "cell_type": "code",
   "execution_count": 6,
   "metadata": {
    "id": "DgausK7HzM0p",
    "pycharm": {
     "name": "#%%\n"
    }
   },
   "outputs": [],
   "source": [
    "# Os textos são coletados a partir da variável synopsis, que consiste na sinopse do filme e da variável plot \n",
    "# que são resumos escritos pelos usuários do site. Essas duas variáveis são concatenadas em um único texto\n",
    "# que é associado ao filme. \n",
    "\n",
    "movie_database = []\n",
    "count = 0\n",
    "\n",
    "for m in all_movies:\n",
    "  movie_instance = {}\n",
    "  movie = all_movies[m]\n",
    "  movie_instance['id'] = movie.movieID\n",
    "  movie_instance['movie'] = movie['title']\n",
    "  movie_instance['year'] = movie['year']\n",
    "\n",
    "  text_ = \"\"\n",
    "\n",
    "  if 'synopsis' in movie.keys():\n",
    "    for synopsi in movie['synopsis']:\n",
    "      text_ += synopsi + \" \"\n",
    "    \n",
    "  if 'plot' in movie.keys():\n",
    "    for plot in movie['plot']:\n",
    "      text_ += plot + \" \"\n",
    "\n",
    "  movie_instance['text'] = text_\n",
    "\n",
    "  if len(movie_instance) > 0:\n",
    "    movie_database.append(movie_instance)\n",
    "\n"
   ]
  },
  {
   "cell_type": "code",
   "execution_count": 7,
   "metadata": {
    "colab": {
     "base_uri": "https://localhost:8080/",
     "height": 423
    },
    "id": "qQWOsxtV0amn",
    "outputId": "18864915-cc12-45fa-bca9-cd3f021a1879",
    "pycharm": {
     "name": "#%%\n"
    }
   },
   "outputs": [
    {
     "data": {
      "text/plain": "          id                     movie  year  \\\n0    0111161  The Shawshank Redemption  1994   \n1    0068646             The Godfather  1972   \n2    0468569           The Dark Knight  2008   \n3    0071562     The Godfather Part II  1974   \n4    0050083              12 Angry Men  1957   \n..       ...                       ...   ...   \n245  0071411               Dersu Uzala  1975   \n246  0103639                   Aladdin  1992   \n247  1454029                  The Help  2011   \n248  0129167            The Iron Giant  1999   \n249  0083987                    Gandhi  1982   \n\n                                                  text  \n0    In 1947, Andy Dufresne (\\n\\nTim Robbins\\n\\n), ...  \n1    In late summer 1945, guests are gathered for t...  \n2    The movie begins with a gang of men with clown...  \n3    The Godfather Part II presents two parallel st...  \n4    In a New York City courthouse, an eighteen-yea...  \n..                                                 ...  \n245  Dersu Uzala is named after the character playe...  \n246  A street peddler (Robin Williams) is guiding t...  \n247  In civil-rights era Jackson, Mississippi, 23-y...  \n248  In 1957, a large alien robot crashes from orbi...  \n249  The story begins with the assassination of Moh...  \n\n[250 rows x 4 columns]",
      "text/html": "<div>\n<style scoped>\n    .dataframe tbody tr th:only-of-type {\n        vertical-align: middle;\n    }\n\n    .dataframe tbody tr th {\n        vertical-align: top;\n    }\n\n    .dataframe thead th {\n        text-align: right;\n    }\n</style>\n<table border=\"1\" class=\"dataframe\">\n  <thead>\n    <tr style=\"text-align: right;\">\n      <th></th>\n      <th>id</th>\n      <th>movie</th>\n      <th>year</th>\n      <th>text</th>\n    </tr>\n  </thead>\n  <tbody>\n    <tr>\n      <th>0</th>\n      <td>0111161</td>\n      <td>The Shawshank Redemption</td>\n      <td>1994</td>\n      <td>In 1947, Andy Dufresne (\\n\\nTim Robbins\\n\\n), ...</td>\n    </tr>\n    <tr>\n      <th>1</th>\n      <td>0068646</td>\n      <td>The Godfather</td>\n      <td>1972</td>\n      <td>In late summer 1945, guests are gathered for t...</td>\n    </tr>\n    <tr>\n      <th>2</th>\n      <td>0468569</td>\n      <td>The Dark Knight</td>\n      <td>2008</td>\n      <td>The movie begins with a gang of men with clown...</td>\n    </tr>\n    <tr>\n      <th>3</th>\n      <td>0071562</td>\n      <td>The Godfather Part II</td>\n      <td>1974</td>\n      <td>The Godfather Part II presents two parallel st...</td>\n    </tr>\n    <tr>\n      <th>4</th>\n      <td>0050083</td>\n      <td>12 Angry Men</td>\n      <td>1957</td>\n      <td>In a New York City courthouse, an eighteen-yea...</td>\n    </tr>\n    <tr>\n      <th>...</th>\n      <td>...</td>\n      <td>...</td>\n      <td>...</td>\n      <td>...</td>\n    </tr>\n    <tr>\n      <th>245</th>\n      <td>0071411</td>\n      <td>Dersu Uzala</td>\n      <td>1975</td>\n      <td>Dersu Uzala is named after the character playe...</td>\n    </tr>\n    <tr>\n      <th>246</th>\n      <td>0103639</td>\n      <td>Aladdin</td>\n      <td>1992</td>\n      <td>A street peddler (Robin Williams) is guiding t...</td>\n    </tr>\n    <tr>\n      <th>247</th>\n      <td>1454029</td>\n      <td>The Help</td>\n      <td>2011</td>\n      <td>In civil-rights era Jackson, Mississippi, 23-y...</td>\n    </tr>\n    <tr>\n      <th>248</th>\n      <td>0129167</td>\n      <td>The Iron Giant</td>\n      <td>1999</td>\n      <td>In 1957, a large alien robot crashes from orbi...</td>\n    </tr>\n    <tr>\n      <th>249</th>\n      <td>0083987</td>\n      <td>Gandhi</td>\n      <td>1982</td>\n      <td>The story begins with the assassination of Moh...</td>\n    </tr>\n  </tbody>\n</table>\n<p>250 rows × 4 columns</p>\n</div>"
     },
     "execution_count": 7,
     "metadata": {},
     "output_type": "execute_result"
    }
   ],
   "source": [
    "# Criando o Dataframe pandas\n",
    "\n",
    "dataframe_movie =  pd.DataFrame(movie_database)\n",
    "dataframe_movie"
   ]
  },
  {
   "cell_type": "markdown",
   "metadata": {
    "id": "9891DTYG1pHb",
    "pycharm": {
     "name": "#%% md\n"
    }
   },
   "source": [
    "## 3. Pré-processar os textos coletados para adequar ao formato aceito pelos algoritmos de clusterização;\n",
    "\n",
    "A terceira etapa consiste em pré-processa os textos de forma a gerar uma estrutura que possa ser utilizada como entrada dos algoritmos de clusterização. Essa estrutura é uma matriz na qual as linhas representam os textos e as colunas o vocabulário de toda coleção de textos. \n",
    "\n",
    "Isso pode ser feito por métodos de Vetorização. Vamos utilizar o `TfidfVectorizer` do scikit-learn. "
   ]
  },
  {
   "cell_type": "code",
   "execution_count": 8,
   "metadata": {
    "id": "zzoXIrvq4-Z-",
    "pycharm": {
     "name": "#%%\n"
    }
   },
   "outputs": [],
   "source": [
    "# Imports necessários\n",
    "from sklearn.feature_extraction.text import TfidfVectorizer\n",
    "\n",
    "# Criação da lista de textos que serão vetorizados. O método não aceita o dataframe como entrada. \n",
    "texts = list(dataframe_movie['text'])\n",
    "\n",
    "# Aplicação da Vetorização\n",
    "tfidf_vectorizer = TfidfVectorizer(max_df=0.8,\n",
    "                                 min_df=0.2, stop_words='english',\n",
    "                                 use_idf=True, ngram_range=(1,3),\n",
    "                                 max_features=100)\n",
    "tfidf_matrix = tfidf_vectorizer.fit_transform(texts)\n"
   ]
  },
  {
   "cell_type": "code",
   "execution_count": 9,
   "metadata": {
    "colab": {
     "base_uri": "https://localhost:8080/"
    },
    "id": "lFzLCDK3No38",
    "outputId": "b589f2c4-5cd9-4c75-c195-fe06f366ba8a",
    "pycharm": {
     "name": "#%%\n"
    }
   },
   "outputs": [
    {
     "data": {
      "text/plain": "(250, 100)"
     },
     "execution_count": 9,
     "metadata": {},
     "output_type": "execute_result"
    }
   ],
   "source": [
    "tfidf_matrix.shape"
   ]
  },
  {
   "cell_type": "markdown",
   "metadata": {
    "id": "cc9DlHho5BXt",
    "pycharm": {
     "name": "#%% md\n"
    }
   },
   "source": [
    "A variável `tfidf_matrix` representa a matriz que será entrada para os métodos de clusterização. Vamos aplica-lo na seção seguinte."
   ]
  },
  {
   "cell_type": "markdown",
   "metadata": {
    "id": "zN1TeJIH5MM7",
    "pycharm": {
     "name": "#%% md\n"
    }
   },
   "source": [
    "## 4. Aplicar a clusterização avaliando o valor da métrica `Sillhoutte` e analisando o `Dendrograma`\n",
    "\n",
    "O primeiro passo é aplicar a clusterização utilizando o KMeans e avaliando a métrica Sillhoutte. Sobre esse métrica, vale destacar: \n",
    "\n",
    "\n",
    "    The silhouette value is a measure of how similar an object is to its own cluster (cohesion) compared to other clusters (separation). The silhouette ranges from −1 to +1, where a high value indicates that the object is well matched to its own cluster and poorly matched to neighboring clusters. If most objects have a high value, then the clustering configuration is appropriate. If many points have a low or negative value, then the clustering configuration may have too many or too few clusters.\n",
    "\n",
    "\n",
    "Um dos problemas do KMeans é que precisamos indicar o número de cluster que queremos formar. Quando isso não é possível de identificar, podemos usar uma análise inicial do valor da métrica para decidir qual valor utilizar para a separação. "
   ]
  },
  {
   "cell_type": "code",
   "execution_count": 11,
   "metadata": {
    "colab": {
     "base_uri": "https://localhost:8080/"
    },
    "id": "StnSohlF6m9Z",
    "outputId": "5ffdd0e2-b7db-4c14-bdd0-7d4e989a01cb",
    "pycharm": {
     "name": "#%%\n"
    }
   },
   "outputs": [
    {
     "name": "stdout",
     "output_type": "stream",
     "text": [
      "Para k=2 o valor Silhoutte foi de 0.0426\n",
      "Para k=3 o valor Silhoutte foi de 0.0519\n",
      "Para k=4 o valor Silhoutte foi de 0.0471\n",
      "Para k=5 o valor Silhoutte foi de 0.0516\n",
      "Para k=6 o valor Silhoutte foi de 0.0428\n",
      "Para k=7 o valor Silhoutte foi de 0.0526\n",
      "Para k=8 o valor Silhoutte foi de 0.0513\n",
      "Para k=9 o valor Silhoutte foi de 0.0527\n"
     ]
    }
   ],
   "source": [
    "# Imports necessários\n",
    "from sklearn.cluster import KMeans\n",
    "from sklearn import metrics\n",
    "\n",
    "# Variando o número de k de 1 a 10 para analisar os valores da métrica\n",
    "\n",
    "for k in range(2, 10):\n",
    "  km = KMeans(n_clusters=k,random_state=42)\n",
    "  km.fit(tfidf_matrix)\n",
    "  score = metrics.silhouette_score(tfidf_matrix, km.labels_, metric='euclidean')\n",
    "  print(\"Para k=%i o valor Silhoutte foi de %.4f\" % (k, score))\n"
   ]
  },
  {
   "cell_type": "markdown",
   "metadata": {
    "id": "Whu77NwYv2HD",
    "pycharm": {
     "name": "#%% md\n"
    }
   },
   "source": [
    "É fácil perceber que os valores estão muito próximos. Para simplificar a visualização, vamos escolher k = 3. Executando a clusterização, temos:\n"
   ]
  },
  {
   "cell_type": "code",
   "execution_count": 13,
   "metadata": {
    "id": "pcf9-ioOv40z",
    "pycharm": {
     "name": "#%%\n"
    }
   },
   "outputs": [],
   "source": [
    "km = KMeans(n_clusters=5,random_state=42)\n",
    "clusters_km = km.fit_predict(tfidf_matrix)"
   ]
  },
  {
   "cell_type": "markdown",
   "metadata": {
    "id": "YtNzZ9wZwLiZ",
    "pycharm": {
     "name": "#%% md\n"
    }
   },
   "source": [
    "Vamos associar os clusters encontrados a uma coluna no dataframe."
   ]
  },
  {
   "cell_type": "code",
   "execution_count": 14,
   "metadata": {
    "colab": {
     "base_uri": "https://localhost:8080/",
     "height": 423
    },
    "id": "xro_VJgQwK4t",
    "outputId": "003e5e9a-b241-4bb4-d83c-e610f6b29f16",
    "pycharm": {
     "name": "#%%\n"
    }
   },
   "outputs": [
    {
     "data": {
      "text/plain": "          id                     movie  year  \\\n0    0111161  The Shawshank Redemption  1994   \n1    0068646             The Godfather  1972   \n2    0468569           The Dark Knight  2008   \n3    0071562     The Godfather Part II  1974   \n4    0050083              12 Angry Men  1957   \n..       ...                       ...   ...   \n245  0071411               Dersu Uzala  1975   \n246  0103639                   Aladdin  1992   \n247  1454029                  The Help  2011   \n248  0129167            The Iron Giant  1999   \n249  0083987                    Gandhi  1982   \n\n                                                  text  cluster_km  \n0    In 1947, Andy Dufresne (\\n\\nTim Robbins\\n\\n), ...           2  \n1    In late summer 1945, guests are gathered for t...           1  \n2    The movie begins with a gang of men with clown...           2  \n3    The Godfather Part II presents two parallel st...           1  \n4    In a New York City courthouse, an eighteen-yea...           3  \n..                                                 ...         ...  \n245  Dersu Uzala is named after the character playe...           3  \n246  A street peddler (Robin Williams) is guiding t...           3  \n247  In civil-rights era Jackson, Mississippi, 23-y...           1  \n248  In 1957, a large alien robot crashes from orbi...           3  \n249  The story begins with the assassination of Moh...           3  \n\n[250 rows x 5 columns]",
      "text/html": "<div>\n<style scoped>\n    .dataframe tbody tr th:only-of-type {\n        vertical-align: middle;\n    }\n\n    .dataframe tbody tr th {\n        vertical-align: top;\n    }\n\n    .dataframe thead th {\n        text-align: right;\n    }\n</style>\n<table border=\"1\" class=\"dataframe\">\n  <thead>\n    <tr style=\"text-align: right;\">\n      <th></th>\n      <th>id</th>\n      <th>movie</th>\n      <th>year</th>\n      <th>text</th>\n      <th>cluster_km</th>\n    </tr>\n  </thead>\n  <tbody>\n    <tr>\n      <th>0</th>\n      <td>0111161</td>\n      <td>The Shawshank Redemption</td>\n      <td>1994</td>\n      <td>In 1947, Andy Dufresne (\\n\\nTim Robbins\\n\\n), ...</td>\n      <td>2</td>\n    </tr>\n    <tr>\n      <th>1</th>\n      <td>0068646</td>\n      <td>The Godfather</td>\n      <td>1972</td>\n      <td>In late summer 1945, guests are gathered for t...</td>\n      <td>1</td>\n    </tr>\n    <tr>\n      <th>2</th>\n      <td>0468569</td>\n      <td>The Dark Knight</td>\n      <td>2008</td>\n      <td>The movie begins with a gang of men with clown...</td>\n      <td>2</td>\n    </tr>\n    <tr>\n      <th>3</th>\n      <td>0071562</td>\n      <td>The Godfather Part II</td>\n      <td>1974</td>\n      <td>The Godfather Part II presents two parallel st...</td>\n      <td>1</td>\n    </tr>\n    <tr>\n      <th>4</th>\n      <td>0050083</td>\n      <td>12 Angry Men</td>\n      <td>1957</td>\n      <td>In a New York City courthouse, an eighteen-yea...</td>\n      <td>3</td>\n    </tr>\n    <tr>\n      <th>...</th>\n      <td>...</td>\n      <td>...</td>\n      <td>...</td>\n      <td>...</td>\n      <td>...</td>\n    </tr>\n    <tr>\n      <th>245</th>\n      <td>0071411</td>\n      <td>Dersu Uzala</td>\n      <td>1975</td>\n      <td>Dersu Uzala is named after the character playe...</td>\n      <td>3</td>\n    </tr>\n    <tr>\n      <th>246</th>\n      <td>0103639</td>\n      <td>Aladdin</td>\n      <td>1992</td>\n      <td>A street peddler (Robin Williams) is guiding t...</td>\n      <td>3</td>\n    </tr>\n    <tr>\n      <th>247</th>\n      <td>1454029</td>\n      <td>The Help</td>\n      <td>2011</td>\n      <td>In civil-rights era Jackson, Mississippi, 23-y...</td>\n      <td>1</td>\n    </tr>\n    <tr>\n      <th>248</th>\n      <td>0129167</td>\n      <td>The Iron Giant</td>\n      <td>1999</td>\n      <td>In 1957, a large alien robot crashes from orbi...</td>\n      <td>3</td>\n    </tr>\n    <tr>\n      <th>249</th>\n      <td>0083987</td>\n      <td>Gandhi</td>\n      <td>1982</td>\n      <td>The story begins with the assassination of Moh...</td>\n      <td>3</td>\n    </tr>\n  </tbody>\n</table>\n<p>250 rows × 5 columns</p>\n</div>"
     },
     "execution_count": 14,
     "metadata": {},
     "output_type": "execute_result"
    }
   ],
   "source": [
    "dataframe_movie['cluster_km'] = clusters_km\n",
    "dataframe_movie"
   ]
  },
  {
   "cell_type": "code",
   "execution_count": 15,
   "metadata": {
    "colab": {
     "base_uri": "https://localhost:8080/"
    },
    "id": "2yf9Q14-zf4R",
    "outputId": "bc2fe628-ad4f-44f0-a9d5-02ace3956800",
    "pycharm": {
     "name": "#%%\n"
    }
   },
   "outputs": [
    {
     "data": {
      "text/plain": "2    70\n3    68\n1    53\n4    31\n0    28\nName: cluster_km, dtype: int64"
     },
     "execution_count": 15,
     "metadata": {},
     "output_type": "execute_result"
    }
   ],
   "source": [
    "dataframe_movie['cluster_km'].value_counts()"
   ]
  },
  {
   "cell_type": "markdown",
   "metadata": {
    "id": "9lIdqJPtBcjA",
    "pycharm": {
     "name": "#%% md\n"
    }
   },
   "source": [
    "Uma outra forma de agrupar é a partir de um cluster hirárquico. Vamos utilizar esse tipo de agrupamento para fazer a análise de um Dendrograma que pode nos ajudar a entender qual a melhor separação destes dados. \n",
    "\n",
    "Vamos utilizar o pacote `import scipy.cluster.hierarchy` da biblioteca Scipy.  O método `linkage` será usado para fazer a clusterização e o método `dendrogram` para montar o gráfico. \n",
    "\n",
    "Um bom resumo sobre cluster hierárquico e como interpretar um dendrograma pode ser encontrado [neste link](https://stackabuse.com/hierarchical-clustering-with-python-and-scikit-learn/) e [neste outro](https://joernhees.de/blog/2015/08/26/scipy-hierarchical-clustering-and-dendrogram-tutorial/). [Esse vídeo](https://youtu.be/ijUMKMC4f9I) também resume bem o conteúdo. \n",
    "\n",
    "Vamos plotar o dendrograma e em seguida fazer algumas análises.\n"
   ]
  },
  {
   "cell_type": "code",
   "execution_count": 16,
   "metadata": {
    "colab": {
     "base_uri": "https://localhost:8080/",
     "height": 444
    },
    "id": "4uF-bpZ3CN-c",
    "outputId": "68652c66-b3d5-4023-be2c-a38aed79cc73",
    "pycharm": {
     "name": "#%%\n"
    }
   },
   "outputs": [
    {
     "data": {
      "text/plain": "<Figure size 720x504 with 1 Axes>",
      "image/png": "[encoded data removed]"
     },
     "metadata": {},
     "output_type": "display_data"
    }
   ],
   "source": [
    "# Imports necessários\n",
    "import scipy.cluster.hierarchy as shc\n",
    "import matplotlib.pyplot as plt\n",
    "\n",
    "# Criando e plotando o dendrograma\n",
    "plt.figure(figsize=(10, 7))\n",
    "plt.title(\"Movies Dendrogram\")\n",
    "cluster_alg = shc.linkage(tfidf_matrix.toarray(), method='ward',)\n",
    "dend = shc.dendrogram(cluster_alg)"
   ]
  },
  {
   "cell_type": "markdown",
   "metadata": {
    "id": "Wr9-WvTfm0Ah",
    "pycharm": {
     "name": "#%% md\n"
    }
   },
   "source": [
    "O dendrograma separou os dados em 7 clusters, diferenciados pelas cores. No entanto, determinar esse número pode ser feito a partir da análise do dendrograma. Não existe um método específico para fazer isso. O que sabemos é que o tamanho das linhas verticais indicam a distância entre os clusters. Ou seja, quanto maior essa linha, mais separados estão os clusters analisados. \n",
    "\n",
    "Uma forma de verificar quantos clusters você pode separar os seus dados é traçando uma linha horizontal e verificar em quantos pontos essa linha toca as linhas verticais, essa quantidade de pontos é o número de cluster. Vamos analisar alguns gráficos.\n",
    "\n",
    "Por enquanto, vamos usar a sugestão do dendograma e trabalhar com 7 clusters."
   ]
  },
  {
   "cell_type": "markdown",
   "metadata": {
    "id": "j_LHi2sTpQX_",
    "pycharm": {
     "name": "#%% md\n"
    }
   },
   "source": [
    "Para gerar o agrupamento final, vamos utilizar um cluster hierárquico no `scikit-learn` com os mesmo parâmetros passados na geração do dendrograma. Para isso, vamos usar o `AgglomerativeCluster`\n"
   ]
  },
  {
   "cell_type": "code",
   "execution_count": 17,
   "metadata": {
    "id": "r2KitN8VqFZP",
    "pycharm": {
     "name": "#%%\n"
    }
   },
   "outputs": [],
   "source": [
    "# Imports Necessários\n",
    "from sklearn.cluster import AgglomerativeClustering\n",
    "\n",
    "# Criação do Cluster\n",
    "agg_cluster = AgglomerativeClustering(n_clusters=7, affinity='euclidean', linkage='ward')\n",
    "clusters_agg = agg_cluster.fit_predict(tfidf_matrix.toarray())"
   ]
  },
  {
   "cell_type": "code",
   "execution_count": 18,
   "metadata": {
    "colab": {
     "base_uri": "https://localhost:8080/",
     "height": 423
    },
    "id": "muSES6c9qblk",
    "outputId": "fffd288e-0161-46ee-ccf4-383d9df7759a",
    "pycharm": {
     "name": "#%%\n"
    }
   },
   "outputs": [
    {
     "data": {
      "text/plain": "          id                     movie  year  \\\n0    0111161  The Shawshank Redemption  1994   \n1    0068646             The Godfather  1972   \n2    0468569           The Dark Knight  2008   \n3    0071562     The Godfather Part II  1974   \n4    0050083              12 Angry Men  1957   \n..       ...                       ...   ...   \n245  0071411               Dersu Uzala  1975   \n246  0103639                   Aladdin  1992   \n247  1454029                  The Help  2011   \n248  0129167            The Iron Giant  1999   \n249  0083987                    Gandhi  1982   \n\n                                                  text  cluster_km  \\\n0    In 1947, Andy Dufresne (\\n\\nTim Robbins\\n\\n), ...           2   \n1    In late summer 1945, guests are gathered for t...           1   \n2    The movie begins with a gang of men with clown...           2   \n3    The Godfather Part II presents two parallel st...           1   \n4    In a New York City courthouse, an eighteen-yea...           3   \n..                                                 ...         ...   \n245  Dersu Uzala is named after the character playe...           3   \n246  A street peddler (Robin Williams) is guiding t...           3   \n247  In civil-rights era Jackson, Mississippi, 23-y...           1   \n248  In 1957, a large alien robot crashes from orbi...           3   \n249  The story begins with the assassination of Moh...           3   \n\n     cluster_agg  \n0              2  \n1              4  \n2              6  \n3              2  \n4              2  \n..           ...  \n245            2  \n246            2  \n247            1  \n248            2  \n249            2  \n\n[250 rows x 6 columns]",
      "text/html": "<div>\n<style scoped>\n    .dataframe tbody tr th:only-of-type {\n        vertical-align: middle;\n    }\n\n    .dataframe tbody tr th {\n        vertical-align: top;\n    }\n\n    .dataframe thead th {\n        text-align: right;\n    }\n</style>\n<table border=\"1\" class=\"dataframe\">\n  <thead>\n    <tr style=\"text-align: right;\">\n      <th></th>\n      <th>id</th>\n      <th>movie</th>\n      <th>year</th>\n      <th>text</th>\n      <th>cluster_km</th>\n      <th>cluster_agg</th>\n    </tr>\n  </thead>\n  <tbody>\n    <tr>\n      <th>0</th>\n      <td>0111161</td>\n      <td>The Shawshank Redemption</td>\n      <td>1994</td>\n      <td>In 1947, Andy Dufresne (\\n\\nTim Robbins\\n\\n), ...</td>\n      <td>2</td>\n      <td>2</td>\n    </tr>\n    <tr>\n      <th>1</th>\n      <td>0068646</td>\n      <td>The Godfather</td>\n      <td>1972</td>\n      <td>In late summer 1945, guests are gathered for t...</td>\n      <td>1</td>\n      <td>4</td>\n    </tr>\n    <tr>\n      <th>2</th>\n      <td>0468569</td>\n      <td>The Dark Knight</td>\n      <td>2008</td>\n      <td>The movie begins with a gang of men with clown...</td>\n      <td>2</td>\n      <td>6</td>\n    </tr>\n    <tr>\n      <th>3</th>\n      <td>0071562</td>\n      <td>The Godfather Part II</td>\n      <td>1974</td>\n      <td>The Godfather Part II presents two parallel st...</td>\n      <td>1</td>\n      <td>2</td>\n    </tr>\n    <tr>\n      <th>4</th>\n      <td>0050083</td>\n      <td>12 Angry Men</td>\n      <td>1957</td>\n      <td>In a New York City courthouse, an eighteen-yea...</td>\n      <td>3</td>\n      <td>2</td>\n    </tr>\n    <tr>\n      <th>...</th>\n      <td>...</td>\n      <td>...</td>\n      <td>...</td>\n      <td>...</td>\n      <td>...</td>\n      <td>...</td>\n    </tr>\n    <tr>\n      <th>245</th>\n      <td>0071411</td>\n      <td>Dersu Uzala</td>\n      <td>1975</td>\n      <td>Dersu Uzala is named after the character playe...</td>\n      <td>3</td>\n      <td>2</td>\n    </tr>\n    <tr>\n      <th>246</th>\n      <td>0103639</td>\n      <td>Aladdin</td>\n      <td>1992</td>\n      <td>A street peddler (Robin Williams) is guiding t...</td>\n      <td>3</td>\n      <td>2</td>\n    </tr>\n    <tr>\n      <th>247</th>\n      <td>1454029</td>\n      <td>The Help</td>\n      <td>2011</td>\n      <td>In civil-rights era Jackson, Mississippi, 23-y...</td>\n      <td>1</td>\n      <td>1</td>\n    </tr>\n    <tr>\n      <th>248</th>\n      <td>0129167</td>\n      <td>The Iron Giant</td>\n      <td>1999</td>\n      <td>In 1957, a large alien robot crashes from orbi...</td>\n      <td>3</td>\n      <td>2</td>\n    </tr>\n    <tr>\n      <th>249</th>\n      <td>0083987</td>\n      <td>Gandhi</td>\n      <td>1982</td>\n      <td>The story begins with the assassination of Moh...</td>\n      <td>3</td>\n      <td>2</td>\n    </tr>\n  </tbody>\n</table>\n<p>250 rows × 6 columns</p>\n</div>"
     },
     "execution_count": 18,
     "metadata": {},
     "output_type": "execute_result"
    }
   ],
   "source": [
    "# A variável clusters indica qual cluster cada texto foi atribuído. O código a seguir cria uma coluna \n",
    "# associando o rótulo do cluster a cada filme\n",
    "dataframe_movie['cluster_agg'] = clusters_agg\n",
    "dataframe_movie"
   ]
  },
  {
   "cell_type": "markdown",
   "metadata": {
    "id": "szMsCQGDpn_8",
    "pycharm": {
     "name": "#%% md\n"
    }
   },
   "source": [
    "## 5. Analisar os clusters gerados \n",
    "\n",
    "Como aplicamos técnicas distintas, a análise das informações referente a cada cluster será feita a partir das informações disponibilizadas por cada tipo de cluster. No caso do K-Means, a análise será feita dos atributos associados ao centróide de cada cluster. No caso do Cluster Hierárquico, vamos analisar as palavras mais frequentes dos filmes presentes em cada cluster. Vamos começar :) "
   ]
  },
  {
   "cell_type": "markdown",
   "metadata": {
    "id": "plrAR0PaPsR3",
    "pycharm": {
     "name": "#%% md\n"
    }
   },
   "source": [
    "### Analisando o resultado do K-Means."
   ]
  },
  {
   "cell_type": "markdown",
   "metadata": {
    "id": "cZ3j7SyuP_io",
    "pycharm": {
     "name": "#%% md\n"
    }
   },
   "source": [
    "O primeiro passo é extrair quais foram os atributos que estão associados ao centróide de cada cluster. Isso pode ser feito a partir do atributo `cluster_centers_` que retorna o valor para cada um dos atributos na posição do centróide. "
   ]
  },
  {
   "cell_type": "code",
   "execution_count": 19,
   "metadata": {
    "colab": {
     "base_uri": "https://localhost:8080/"
    },
    "id": "eEBauVV9QHKF",
    "outputId": "6b626160-83d3-4e1a-a09a-7a532823bf9f",
    "pycharm": {
     "name": "#%%\n"
    }
   },
   "outputs": [
    {
     "data": {
      "text/plain": "array([[91, 62, 96, 71, 87, 19, 37, 12, 58, 47,  8, 69, 50, 13, 99, 18,\n        92, 45, 46, 25, 27, 73, 49, 39, 67, 85, 76, 64, 21, 11, 86, 70,\n        24,  9, 78, 40,  2, 26, 23, 88,  0,  1, 84, 98, 89,  3, 35, 36,\n        33,  7,  4, 55, 95, 81, 38, 14, 83, 74, 93, 80, 32, 56, 51, 52,\n        82, 63, 90, 59, 22, 43, 10, 15, 30, 77, 57, 54, 60, 34, 97, 53,\n        42, 48, 20, 61, 68, 79, 65, 17, 66, 16, 72, 44, 94, 31, 28,  5,\n        29,  6, 41, 75],\n       [23, 22, 83, 64, 67, 41, 98, 63, 70, 13, 40, 99, 87, 28, 57, 86,\n        29, 55, 27, 11,  4, 49, 95, 93, 85,  2, 24, 97, 91, 76, 52, 37,\n        77, 92,  9, 53, 39, 43,  7,  0, 58, 90, 84, 69, 45, 96, 73, 68,\n         3, 33, 66, 61,  1, 10, 54, 59, 26, 12, 89, 75,  6, 56, 18, 32,\n        21, 47, 50, 82, 94, 30,  8, 46, 81, 14, 16, 25, 51, 79, 88, 62,\n        34, 78, 48,  5, 72, 31, 17, 15, 60, 19, 36, 38, 71, 20, 80, 74,\n        65, 35, 42, 44],\n       [87,  6, 80, 62,  1, 78, 33,  2, 63, 75, 27, 17, 88, 30, 45, 86,\n        15, 89, 35, 53, 24, 64, 92, 23, 81, 94,  3, 46, 40, 41, 10, 69,\n        67, 38, 20, 49, 79, 50, 51, 12, 58, 47, 48, 11, 73, 72, 93, 99,\n        98, 42, 39, 70, 43, 21, 95, 90,  5, 14, 66, 54, 32, 31, 36, 34,\n        74,  9, 82, 26, 59, 56, 96, 37, 13, 28, 52,  0, 84, 19,  8,  7,\n        18, 85, 61, 77, 97, 76, 71, 60, 57, 55, 16, 25, 44, 29, 22, 83,\n        68,  4, 65, 91],\n       [67,  4,  8, 40, 57, 11, 99, 25, 98, 70, 39,  7, 96, 29, 49, 27,\n         2, 89, 69, 86, 87, 45, 85, 28, 95, 58, 78, 19, 73, 92, 60, 84,\n        93, 37,  3, 97, 77, 31, 66, 53, 76, 23, 14, 81, 41, 30, 88, 13,\n        90, 16, 83, 64, 50, 33, 38, 26, 94, 47, 54, 56, 55, 22, 51, 61,\n        63, 62, 52, 74, 82, 18, 24,  1, 48, 75, 32, 71, 42, 65, 59,  9,\n        10, 21, 20, 72, 34, 46, 44, 15, 68, 43, 36,  0, 12, 91, 17, 79,\n         5, 80,  6, 35],\n       [75, 93, 65, 44, 87, 13, 68, 94, 14, 62, 73, 67, 80, 78, 85, 40,\n        11, 33, 46, 27, 69, 41, 86,  6, 63, 38, 25, 49,  1,  2, 99, 10,\n        53, 81, 39, 50, 43, 26, 21, 28, 74, 58, 45, 84, 47,  0, 89, 98,\n        29, 61, 60, 96, 90,  3, 55, 12, 51, 23, 66, 35, 34, 57, 92,  8,\n        70,  7, 82,  5, 95, 48, 22, 32, 36, 17, 91, 77, 30, 97, 37, 72,\n        88, 56, 52,  9, 83, 59, 20, 42, 79, 54, 31, 71, 19, 18, 15,  4,\n        76, 24, 16, 64]], dtype=int64)"
     },
     "execution_count": 19,
     "metadata": {},
     "output_type": "execute_result"
    }
   ],
   "source": [
    "order_centroids = km.cluster_centers_.argsort()[:, ::-1]\n",
    "order_centroids"
   ]
  },
  {
   "cell_type": "markdown",
   "metadata": {
    "id": "9ldPyzILTIYp",
    "pycharm": {
     "name": "#%% md\n"
    }
   },
   "source": [
    "Cada índice desta lista é uma palavra que corresponde a um atributo da matriz utilizada para treinar o modelo não-supervisionado. Para descobrir a palavra, basta ver a lista de palavras geradas pelo método de vetorização. "
   ]
  },
  {
   "cell_type": "code",
   "execution_count": 21,
   "metadata": {
    "id": "xbuMPHpN5mp9",
    "outputId": "bcd3cc99-0340-421b-ba42-8760ad24778d",
    "pycharm": {
     "name": "#%%\n"
    }
   },
   "outputs": [],
   "source": [
    "# Criação de uma veriável com a lista de palavras que representa as colunas da matriz.\n",
    "terms = tfidf_vectorizer.get_feature_names_out()"
   ]
  },
  {
   "cell_type": "code",
   "execution_count": 22,
   "metadata": {
    "colab": {
     "base_uri": "https://localhost:8080/"
    },
    "id": "D2V4Df5G01tw",
    "outputId": "3fd09497-62dc-4d37-9b33-e1ea5c37052b",
    "pycharm": {
     "name": "#%%\n"
    }
   },
   "outputs": [
    {
     "data": {
      "text/plain": "array(['arrives', 'asks', 'away', 'begins', 'boy', 'calls', 'car',\n       'children', 'city', 'come', 'comes', 'day', 'dead', 'death',\n       'does', 'doesn', 'don', 'door', 'end', 'escape', 'explains',\n       'face', 'family', 'father', 'fight', 'film', 'finally', 'finds',\n       'friend', 'friends', 'gets', 'girl', 'gives', 'goes', 'going',\n       'gun', 'hand', 'having', 'head', 'help', 'home', 'house', 'inside',\n       'job', 'john', 'just', 'kill', 'killed', 'know', 'later', 'leave',\n       'leaves', 'left', 'like', 'little', 'lives', 'long', 'love',\n       'make', 'makes', 'meet', 'meets', 'men', 'money', 'mother', 'mr',\n       'named', 'new', 'nick', 'night', 'old', 'orders', 'outside',\n       'people', 'place', 'police', 'return', 'returns', 'room', 'runs',\n       'says', 'sees', 'small', 'son', 'soon', 'story', 'takes', 'tells',\n       'town', 'tries', 'wants', 'war', 'way', 'wife', 'woman', 'work',\n       'world', 'year', 'years', 'young'], dtype=object)"
     },
     "execution_count": 22,
     "metadata": {},
     "output_type": "execute_result"
    }
   ],
   "source": [
    "terms"
   ]
  },
  {
   "cell_type": "markdown",
   "metadata": {
    "id": "07_Fh0x6Toh5",
    "pycharm": {
     "name": "#%% md\n"
    }
   },
   "source": [
    "Por fim, vamos ver quais palavras que melhor caracterizam cada um dos clusters criados. "
   ]
  },
  {
   "cell_type": "code",
   "execution_count": 23,
   "metadata": {
    "colab": {
     "base_uri": "https://localhost:8080/",
     "height": 143
    },
    "id": "biIMtSGGTs7r",
    "outputId": "33be0ed3-9fb8-4cff-f2c0-f736523d310d",
    "pycharm": {
     "name": "#%%\n"
    }
   },
   "outputs": [
    {
     "data": {
      "text/plain": "   cluster                                              words\n0        0  war, men, world, orders, tells, escape, having...\n1        1  father, family, son, mother, new, house, years...\n2        2  tells, car, says, men, asks, room, goes, away,...\n3        3  new, boy, city, home, love, day, young, film, ...\n4        4  police, wife, mr, john, tells, death, nick, wo...",
      "text/html": "<div>\n<style scoped>\n    .dataframe tbody tr th:only-of-type {\n        vertical-align: middle;\n    }\n\n    .dataframe tbody tr th {\n        vertical-align: top;\n    }\n\n    .dataframe thead th {\n        text-align: right;\n    }\n</style>\n<table border=\"1\" class=\"dataframe\">\n  <thead>\n    <tr style=\"text-align: right;\">\n      <th></th>\n      <th>cluster</th>\n      <th>words</th>\n    </tr>\n  </thead>\n  <tbody>\n    <tr>\n      <th>0</th>\n      <td>0</td>\n      <td>war, men, world, orders, tells, escape, having...</td>\n    </tr>\n    <tr>\n      <th>1</th>\n      <td>1</td>\n      <td>father, family, son, mother, new, house, years...</td>\n    </tr>\n    <tr>\n      <th>2</th>\n      <td>2</td>\n      <td>tells, car, says, men, asks, room, goes, away,...</td>\n    </tr>\n    <tr>\n      <th>3</th>\n      <td>3</td>\n      <td>new, boy, city, home, love, day, young, film, ...</td>\n    </tr>\n    <tr>\n      <th>4</th>\n      <td>4</td>\n      <td>police, wife, mr, john, tells, death, nick, wo...</td>\n    </tr>\n  </tbody>\n</table>\n</div>"
     },
     "execution_count": 23,
     "metadata": {},
     "output_type": "execute_result"
    }
   ],
   "source": [
    "centroids = []\n",
    "# 5 foi o número de clusters que usamos para treinar o modelo do K-Means\n",
    "for i in range(5): \n",
    "  list_id = order_centroids[i]\n",
    "  list_terms = [terms[id] for id in list_id[:10]]\n",
    "  centroids.append({'cluster': i, 'words': ', '.join(list_terms)})\n",
    "\n",
    "df_centroids = pd.DataFrame(centroids)\n",
    "df_centroids"
   ]
  },
  {
   "cell_type": "markdown",
   "metadata": {
    "id": "f8xNA1SBUAgG",
    "pycharm": {
     "name": "#%% md\n"
    }
   },
   "source": [
    "Vamos selecionar alguns filmes de cada um do cluster. "
   ]
  },
  {
   "cell_type": "code",
   "execution_count": 25,
   "metadata": {
    "colab": {
     "base_uri": "https://localhost:8080/"
    },
    "id": "Cock8oP-UHjB",
    "outputId": "57e17005-f1d3-49f0-cd7d-0918451b557c",
    "pycharm": {
     "name": "#%%\n"
    }
   },
   "outputs": [
    {
     "name": "stdout",
     "output_type": "stream",
     "text": [
      "Cluster 0: ['war, men, world, orders, tells, escape, having, dead, make, killed']\n",
      "\tFilme: Schindler's List\n",
      "\tFilme: The Lord of the Rings: The Return of the King\n",
      "\tFilme: The Good, the Bad and the Ugly\n",
      "\tFilme: The Lord of the Rings: The Two Towers\n",
      "\tFilme: Saving Private Ryan\n",
      "\tFilme: Casablanca\n",
      "\tFilme: Grave of the Fireflies\n",
      "\tFilme: Apocalypse Now\n",
      "\tFilme: Paths of Glory\n",
      "\tFilme: The Great Dictator\n",
      "\n",
      "Cluster 1: ['father, family, son, mother, new, house, years, money, old, death']\n",
      "\tFilme: The Godfather\n",
      "\tFilme: The Godfather Part II\n",
      "\tFilme: Goodfellas\n",
      "\tFilme: Life Is Beautiful\n",
      "\tFilme: Interstellar\n",
      "\tFilme: The Pianist\n",
      "\tFilme: Parasite\n",
      "\tFilme: Léon: The Professional\n",
      "\tFilme: Gladiator\n",
      "\tFilme: Harakiri\n",
      "\n",
      "Cluster 2: ['tells, car, says, men, asks, room, goes, away, money, police']\n",
      "\tFilme: The Shawshank Redemption\n",
      "\tFilme: The Dark Knight\n",
      "\tFilme: Pulp Fiction\n",
      "\tFilme: Fight Club\n",
      "\tFilme: Inception\n",
      "\tFilme: The Matrix\n",
      "\tFilme: Back to the Future\n",
      "\tFilme: Spirited Away\n",
      "\tFilme: Psycho\n",
      "\tFilme: The Lion King\n",
      "\n",
      "Cluster 3: ['new, boy, city, home, love, day, young, film, years, old']\n",
      "\tFilme: 12 Angry Men\n",
      "\tFilme: The Lord of the Rings: The Fellowship of the Ring\n",
      "\tFilme: Forrest Gump\n",
      "\tFilme: Star Wars: Episode V - The Empire Strikes Back\n",
      "\tFilme: One Flew Over the Cuckoo's Nest\n",
      "\tFilme: Seven Samurai\n",
      "\tFilme: The Silence of the Lambs\n",
      "\tFilme: City of God\n",
      "\tFilme: Star Wars: Episode IV - A New Hope\n",
      "\tFilme: Modern Times\n",
      "\n",
      "Cluster 4: ['police, wife, mr, john, tells, death, nick, woman, does, men']\n",
      "\tFilme: Se7en\n",
      "\tFilme: It's a Wonderful Life\n",
      "\tFilme: The Green Mile\n",
      "\tFilme: Terminator 2: Judgment Day\n",
      "\tFilme: The Departed\n",
      "\tFilme: The Usual Suspects\n",
      "\tFilme: The Intouchables\n",
      "\tFilme: Rear Window\n",
      "\tFilme: Memento\n",
      "\tFilme: Witness for the Prosecution\n",
      "\n"
     ]
    }
   ],
   "source": [
    "for n in range(5):\n",
    "  print(\"Cluster %i: %s\" % (n, list(df_centroids[df_centroids['cluster'] == n]['words'][:5])))\n",
    "  data_selected = dataframe_movie[dataframe_movie['cluster_km'] == n]\n",
    "  for index, row in data_selected.head(10).iterrows():\n",
    "    print(\"\\tFilme: %s\" % row['movie'])\n",
    "  print()"
   ]
  },
  {
   "cell_type": "markdown",
   "metadata": {
    "id": "3Su3wj4sWQgo",
    "pycharm": {
     "name": "#%% md\n"
    }
   },
   "source": [
    "### Analisando o resultado do Cluster Hierárquico.\n",
    "\n",
    "No caso do cluster hierárquico, vamos pegar as informações dirertamente do dataframe já que esse método não possui um centróide para analisar. Vamos pegar os termos mais relevantes de acordo com o `TfidfVectorizer`. \n"
   ]
  },
  {
   "cell_type": "code",
   "execution_count": 27,
   "metadata": {
    "id": "4sviTNC6ux-s",
    "outputId": "10ef9ff9-09f1-48db-b7f8-13384005ca8f",
    "pycharm": {
     "name": "#%%\n"
    }
   },
   "outputs": [],
   "source": [
    "import collections\n",
    "\n",
    "top_words_by_movie = []\n",
    "\n",
    "for row in tfidf_matrix.toarray():\n",
    "  a = row\n",
    "  b = tfidf_vectorizer.get_feature_names_out()\n",
    "\n",
    "  dict_words = dict(zip(b, a))\n",
    "  sorted_dict = sorted(dict_words.items(), key=lambda x: x[1], reverse=True)\n",
    "  \n",
    "  top_words_by_movie.append({'words': [w[0] for w in sorted_dict[:5]]})\n",
    "  count += 1"
   ]
  },
  {
   "cell_type": "code",
   "execution_count": 28,
   "metadata": {
    "colab": {
     "base_uri": "https://localhost:8080/"
    },
    "id": "8C61EtYkxxFz",
    "outputId": "94afaa6d-049c-4c4a-83de-17c280916176",
    "pycharm": {
     "name": "#%%\n"
    }
   },
   "outputs": [
    {
     "name": "stdout",
     "output_type": "stream",
     "text": [
      "Cluster 0: ['police', 'wife', 'mr', 'john', 'tells']\n",
      "\tFilme: Se7en\n",
      "\tFilme: It's a Wonderful Life\n",
      "\tFilme: The Green Mile\n",
      "\tFilme: Terminator 2: Judgment Day\n",
      "\tFilme: The Departed\n",
      "\tFilme: The Usual Suspects\n",
      "\tFilme: The Intouchables\n",
      "\tFilme: Rear Window\n",
      "\tFilme: Memento\n",
      "\tFilme: Witness for the Prosecution\n",
      "\n",
      "Cluster 1: ['father', 'son', 'mother', 'family', 'old']\n",
      "\tFilme: The Lord of the Rings: The Fellowship of the Ring\n",
      "\tFilme: Life Is Beautiful\n",
      "\tFilme: Interstellar\n",
      "\tFilme: Star Wars: Episode IV - A New Hope\n",
      "\tFilme: Psycho\n",
      "\tFilme: Léon: The Professional\n",
      "\tFilme: The Lion King\n",
      "\tFilme: Gladiator\n",
      "\tFilme: Whiplash\n",
      "\tFilme: Amadeus\n",
      "\n",
      "Cluster 2: ['boy', 'new', 'love', 'children', 'city']\n",
      "\tFilme: The Shawshank Redemption\n",
      "\tFilme: The Godfather Part II\n",
      "\tFilme: 12 Angry Men\n",
      "\tFilme: The Lord of the Rings: The Return of the King\n",
      "\tFilme: Forrest Gump\n",
      "\tFilme: Star Wars: Episode V - The Empire Strikes Back\n",
      "\tFilme: Goodfellas\n",
      "\tFilme: One Flew Over the Cuckoo's Nest\n",
      "\tFilme: The Silence of the Lambs\n",
      "\tFilme: City of God\n",
      "\n",
      "Cluster 3: ['men', 'money', 'town', 'tells', 'car']\n",
      "\tFilme: Pulp Fiction\n",
      "\tFilme: The Good, the Bad and the Ugly\n",
      "\tFilme: Saving Private Ryan\n",
      "\tFilme: Once Upon a Time in the West\n",
      "\tFilme: Django Unchained\n",
      "\tFilme: Paths of Glory\n",
      "\tFilme: Princess Mononoke\n",
      "\tFilme: Requiem for a Dream\n",
      "\tFilme: Scarface\n",
      "\tFilme: The Sting\n",
      "\n",
      "Cluster 4: ['family', 'father', 'war', 'don', 'son']\n",
      "\tFilme: The Godfather\n",
      "\tFilme: The Pianist\n",
      "\tFilme: Parasite\n",
      "\tFilme: Coco\n",
      "\tFilme: Singin' in the Rain\n",
      "\tFilme: Green Book\n",
      "\tFilme: Gran Torino\n",
      "\tFilme: Hotel Rwanda\n",
      "\tFilme: Pather Panchali\n",
      "\tFilme: The Grapes of Wrath\n",
      "\n",
      "Cluster 5: ['war', 'world', 'men', 'orders', 'mother']\n",
      "\tFilme: Schindler's List\n",
      "\tFilme: The Lord of the Rings: The Two Towers\n",
      "\tFilme: Grave of the Fireflies\n",
      "\tFilme: Apocalypse Now\n",
      "\tFilme: The Great Dictator\n",
      "\tFilme: Dr. Strangelove or: How I Learned to Stop Worrying and Love the Bomb\n",
      "\tFilme: Inglourious Basterds\n",
      "\tFilme: The Boat\n",
      "\tFilme: Come and See\n",
      "\tFilme: Lawrence of Arabia\n",
      "\n",
      "Cluster 6: ['tells', 'car', 'fight', 'room', 'police']\n",
      "\tFilme: The Dark Knight\n",
      "\tFilme: Fight Club\n",
      "\tFilme: Inception\n",
      "\tFilme: The Matrix\n",
      "\tFilme: Seven Samurai\n",
      "\tFilme: Back to the Future\n",
      "\tFilme: Spirited Away\n",
      "\tFilme: American History X\n",
      "\tFilme: The Prestige\n",
      "\tFilme: Alien\n",
      "\n"
     ]
    }
   ],
   "source": [
    "# 7 foi o número de clusters usados para treinar o cluster hierárquico\n",
    "for i in range(7):\n",
    "  all_cluster_i = dataframe_movie[dataframe_movie['cluster_agg']==i]\n",
    "  all_movies_index = list(all_cluster_i.index)\n",
    "  cluster_words = [w for m in all_movies_index for w in top_words_by_movie[m]['words']]\n",
    "  word_count = sorted(dict(collections.Counter(cluster_words)).items(), key=lambda x: x[1], reverse=True)\n",
    "  print(\"Cluster %i: %s\" % (i, [word[0] for word in word_count[:5]]))\n",
    "  for index, row in all_cluster_i.head(10).iterrows():\n",
    "    print(\"\\tFilme: %s\" % row['movie'])\n",
    "  print()\n"
   ]
  },
  {
   "cell_type": "markdown",
   "metadata": {
    "id": "hS3MUDrx2GMr",
    "pycharm": {
     "name": "#%% md\n"
    }
   },
   "source": [
    "Com isso finalizamos essa atividade. Observe que temos informações suficientes para analisar o que cada cluster quer contar :) Podemos melhorar as informações de cada cluster mexendo um pouco mais no pré-processamento do texto, mas isso não será feito agora, mas fiquem à vontade para fazer :) \n",
    "\n",
    "Agora é a sua vez de colocar esse conhecimento em prática. Tenho uma atividade na próxima seção ;)"
   ]
  },
  {
   "cell_type": "code",
   "execution_count": 28,
   "outputs": [],
   "source": [],
   "metadata": {
    "collapsed": false,
    "pycharm": {
     "name": "#%%\n"
    }
   }
  }
 ],
 "metadata": {
  "colab": {
   "collapsed_sections": [],
   "include_colab_link": true,
   "name": "lab602_atividade.ipynb",
   "provenance": []
  },
  "kernelspec": {
   "display_name": "Python 3.10.2 64-bit",
   "language": "python",
   "name": "python3"
  },
  "language_info": {
   "codemirror_mode": {
    "name": "ipython",
    "version": 3
   },
   "file_extension": ".py",
   "mimetype": "text/x-python",
   "name": "python",
   "nbconvert_exporter": "python",
   "pygments_lexer": "ipython3",
   "version": "3.10.2"
  },
  "vscode": {
   "interpreter": {
    "hash": "b7607e9b7590362547b5de8bf6176244028b8977d9ec5a2b2439f6dadd025cea"
   }
  }
 },
 "nbformat": 4,
 "nbformat_minor": 0
}